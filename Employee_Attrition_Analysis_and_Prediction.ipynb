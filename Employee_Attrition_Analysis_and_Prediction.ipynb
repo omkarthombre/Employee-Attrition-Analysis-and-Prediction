{
  "nbformat": 4,
  "nbformat_minor": 0,
  "metadata": {
    "colab": {
      "name": "Employee Attrition Analysis and Prediction.ipynb",
      "provenance": [],
      "authorship_tag": "ABX9TyMwvpJZtzhppgFwgsXK0CQ5"
    },
    "kernelspec": {
      "name": "python3",
      "display_name": "Python 3"
    },
    "language_info": {
      "name": "python"
    }
  },
  "cells": [
    {
      "cell_type": "markdown",
      "metadata": {
        "id": "dPyqdzLZrQsc"
      },
      "source": [
        "\n",
        "# **Employee Attrition Analysis and Prediction**\n",
        "\n",
        "## Self Project by \n",
        "## Omkar Sainath Thombre\n",
        "### Department of Mechanical Engineering, IIT Madras\n",
        "### IIT Madras\n",
        "\n"
      ]
    },
    {
      "cell_type": "markdown",
      "metadata": {
        "id": "g5FJrQQgIzvx"
      },
      "source": [
        ""
      ]
    },
    {
      "cell_type": "code",
      "metadata": {
        "id": "tI7f6bZK8JtL"
      },
      "source": [
        "\n",
        "import os\n",
        "import pandas as pd\n",
        "from pandas import ExcelFile\n",
        "import matplotlib.pyplot as plt\n",
        "import numpy as np\n",
        "import seaborn as sns"
      ],
      "execution_count": 3,
      "outputs": []
    },
    {
      "cell_type": "code",
      "metadata": {
        "id": "EzfJCZW5sDLv"
      },
      "source": [
        "import warnings\n",
        "warnings.filterwarnings('ignore')\n",
        "\n",
        "# Settings\n",
        "plt.rcParams['axes.labelsize'] = 14\n",
        "plt.rcParams['xtick.labelsize'] = 12\n",
        "plt.rcParams['ytick.labelsize'] = 12\n",
        "plt.rcParams['figure.figsize'] = (16, 4)\n",
        "\n",
        "pd.options.display.max_columns = 500"
      ],
      "execution_count": 4,
      "outputs": []
    },
    {
      "cell_type": "markdown",
      "metadata": {
        "id": "igyzd3oz8e6l"
      },
      "source": [
        "**Importing the data**"
      ]
    },
    {
      "cell_type": "code",
      "metadata": {
        "id": "mEp2NeJz8j5Q"
      },
      "source": [
        "emp_data_org = pd.read_csv('Employee_Attrition_Data.csv')\n"
      ],
      "execution_count": 7,
      "outputs": []
    },
    {
      "cell_type": "markdown",
      "metadata": {
        "id": "CZsxpT0d937Y"
      },
      "source": [
        "**Data Preprocessing**"
      ]
    },
    {
      "cell_type": "code",
      "metadata": {
        "colab": {
          "base_uri": "https://localhost:8080/"
        },
        "id": "Gxb3Pkcc9jBr",
        "outputId": "2b09581c-16b8-47a8-fdcb-d9f3aec4a78f"
      },
      "source": [
        "print('Dataset dimension: {} rows, {} columns'.format(emp_data_org.shape[0], emp_data_org.shape[1]))"
      ],
      "execution_count": 8,
      "outputs": [
        {
          "output_type": "stream",
          "name": "stdout",
          "text": [
            "Dataset dimension: 1470 rows, 35 columns\n"
          ]
        }
      ]
    },
    {
      "cell_type": "code",
      "metadata": {
        "colab": {
          "base_uri": "https://localhost:8080/"
        },
        "id": "a69qxC0O-F9v",
        "outputId": "684684e2-011c-4f1e-e724-22765fd3001d"
      },
      "source": [
        "emp_data_org.info()"
      ],
      "execution_count": 9,
      "outputs": [
        {
          "output_type": "stream",
          "name": "stdout",
          "text": [
            "<class 'pandas.core.frame.DataFrame'>\n",
            "RangeIndex: 1470 entries, 0 to 1469\n",
            "Data columns (total 35 columns):\n",
            " #   Column                    Non-Null Count  Dtype \n",
            "---  ------                    --------------  ----- \n",
            " 0   Age                       1470 non-null   int64 \n",
            " 1   Attrition                 1470 non-null   object\n",
            " 2   BusinessTravel            1470 non-null   object\n",
            " 3   DailyRate                 1470 non-null   int64 \n",
            " 4   Department                1470 non-null   object\n",
            " 5   DistanceFromHome          1470 non-null   int64 \n",
            " 6   Education                 1470 non-null   int64 \n",
            " 7   EducationField            1470 non-null   object\n",
            " 8   EmployeeCount             1470 non-null   int64 \n",
            " 9   EmployeeNumber            1470 non-null   int64 \n",
            " 10  EnvironmentSatisfaction   1470 non-null   int64 \n",
            " 11  Gender                    1470 non-null   object\n",
            " 12  HourlyRate                1470 non-null   int64 \n",
            " 13  JobInvolvement            1470 non-null   int64 \n",
            " 14  JobLevel                  1470 non-null   int64 \n",
            " 15  JobRole                   1470 non-null   object\n",
            " 16  JobSatisfaction           1470 non-null   int64 \n",
            " 17  MaritalStatus             1470 non-null   object\n",
            " 18  MonthlyIncome             1470 non-null   int64 \n",
            " 19  MonthlyRate               1470 non-null   int64 \n",
            " 20  NumCompaniesWorked        1470 non-null   int64 \n",
            " 21  Over18                    1470 non-null   object\n",
            " 22  OverTime                  1470 non-null   object\n",
            " 23  PercentSalaryHike         1470 non-null   int64 \n",
            " 24  PerformanceRating         1470 non-null   int64 \n",
            " 25  RelationshipSatisfaction  1470 non-null   int64 \n",
            " 26  StandardHours             1470 non-null   int64 \n",
            " 27  StockOptionLevel          1470 non-null   int64 \n",
            " 28  TotalWorkingYears         1470 non-null   int64 \n",
            " 29  TrainingTimesLastYear     1470 non-null   int64 \n",
            " 30  WorkLifeBalance           1470 non-null   int64 \n",
            " 31  YearsAtCompany            1470 non-null   int64 \n",
            " 32  YearsInCurrentRole        1470 non-null   int64 \n",
            " 33  YearsSinceLastPromotion   1470 non-null   int64 \n",
            " 34  YearsWithCurrManager      1470 non-null   int64 \n",
            "dtypes: int64(26), object(9)\n",
            "memory usage: 402.1+ KB\n"
          ]
        }
      ]
    },
    {
      "cell_type": "code",
      "metadata": {
        "colab": {
          "base_uri": "https://localhost:8080/",
          "height": 317
        },
        "id": "9bTHbW7g-GAj",
        "outputId": "29e4e3b8-d427-43e2-ac56-771b9dbaab24"
      },
      "source": [
        "emp_data_org.describe()"
      ],
      "execution_count": 10,
      "outputs": [
        {
          "output_type": "execute_result",
          "data": {
            "text/html": [
              "<div>\n",
              "<style scoped>\n",
              "    .dataframe tbody tr th:only-of-type {\n",
              "        vertical-align: middle;\n",
              "    }\n",
              "\n",
              "    .dataframe tbody tr th {\n",
              "        vertical-align: top;\n",
              "    }\n",
              "\n",
              "    .dataframe thead th {\n",
              "        text-align: right;\n",
              "    }\n",
              "</style>\n",
              "<table border=\"1\" class=\"dataframe\">\n",
              "  <thead>\n",
              "    <tr style=\"text-align: right;\">\n",
              "      <th></th>\n",
              "      <th>Age</th>\n",
              "      <th>DailyRate</th>\n",
              "      <th>DistanceFromHome</th>\n",
              "      <th>Education</th>\n",
              "      <th>EmployeeCount</th>\n",
              "      <th>EmployeeNumber</th>\n",
              "      <th>EnvironmentSatisfaction</th>\n",
              "      <th>HourlyRate</th>\n",
              "      <th>JobInvolvement</th>\n",
              "      <th>JobLevel</th>\n",
              "      <th>JobSatisfaction</th>\n",
              "      <th>MonthlyIncome</th>\n",
              "      <th>MonthlyRate</th>\n",
              "      <th>NumCompaniesWorked</th>\n",
              "      <th>PercentSalaryHike</th>\n",
              "      <th>PerformanceRating</th>\n",
              "      <th>RelationshipSatisfaction</th>\n",
              "      <th>StandardHours</th>\n",
              "      <th>StockOptionLevel</th>\n",
              "      <th>TotalWorkingYears</th>\n",
              "      <th>TrainingTimesLastYear</th>\n",
              "      <th>WorkLifeBalance</th>\n",
              "      <th>YearsAtCompany</th>\n",
              "      <th>YearsInCurrentRole</th>\n",
              "      <th>YearsSinceLastPromotion</th>\n",
              "      <th>YearsWithCurrManager</th>\n",
              "    </tr>\n",
              "  </thead>\n",
              "  <tbody>\n",
              "    <tr>\n",
              "      <th>count</th>\n",
              "      <td>1470.000000</td>\n",
              "      <td>1470.000000</td>\n",
              "      <td>1470.000000</td>\n",
              "      <td>1470.000000</td>\n",
              "      <td>1470.0</td>\n",
              "      <td>1470.000000</td>\n",
              "      <td>1470.000000</td>\n",
              "      <td>1470.000000</td>\n",
              "      <td>1470.000000</td>\n",
              "      <td>1470.000000</td>\n",
              "      <td>1470.000000</td>\n",
              "      <td>1470.000000</td>\n",
              "      <td>1470.000000</td>\n",
              "      <td>1470.000000</td>\n",
              "      <td>1470.000000</td>\n",
              "      <td>1470.000000</td>\n",
              "      <td>1470.000000</td>\n",
              "      <td>1470.0</td>\n",
              "      <td>1470.000000</td>\n",
              "      <td>1470.000000</td>\n",
              "      <td>1470.000000</td>\n",
              "      <td>1470.000000</td>\n",
              "      <td>1470.000000</td>\n",
              "      <td>1470.000000</td>\n",
              "      <td>1470.000000</td>\n",
              "      <td>1470.000000</td>\n",
              "    </tr>\n",
              "    <tr>\n",
              "      <th>mean</th>\n",
              "      <td>36.923810</td>\n",
              "      <td>802.485714</td>\n",
              "      <td>9.192517</td>\n",
              "      <td>2.912925</td>\n",
              "      <td>1.0</td>\n",
              "      <td>1024.865306</td>\n",
              "      <td>2.721769</td>\n",
              "      <td>65.891156</td>\n",
              "      <td>2.729932</td>\n",
              "      <td>2.063946</td>\n",
              "      <td>2.728571</td>\n",
              "      <td>6502.931293</td>\n",
              "      <td>14313.103401</td>\n",
              "      <td>2.693197</td>\n",
              "      <td>15.209524</td>\n",
              "      <td>3.153741</td>\n",
              "      <td>2.712245</td>\n",
              "      <td>80.0</td>\n",
              "      <td>0.793878</td>\n",
              "      <td>11.279592</td>\n",
              "      <td>2.799320</td>\n",
              "      <td>2.761224</td>\n",
              "      <td>7.008163</td>\n",
              "      <td>4.229252</td>\n",
              "      <td>2.187755</td>\n",
              "      <td>4.123129</td>\n",
              "    </tr>\n",
              "    <tr>\n",
              "      <th>std</th>\n",
              "      <td>9.135373</td>\n",
              "      <td>403.509100</td>\n",
              "      <td>8.106864</td>\n",
              "      <td>1.024165</td>\n",
              "      <td>0.0</td>\n",
              "      <td>602.024335</td>\n",
              "      <td>1.093082</td>\n",
              "      <td>20.329428</td>\n",
              "      <td>0.711561</td>\n",
              "      <td>1.106940</td>\n",
              "      <td>1.102846</td>\n",
              "      <td>4707.956783</td>\n",
              "      <td>7117.786044</td>\n",
              "      <td>2.498009</td>\n",
              "      <td>3.659938</td>\n",
              "      <td>0.360824</td>\n",
              "      <td>1.081209</td>\n",
              "      <td>0.0</td>\n",
              "      <td>0.852077</td>\n",
              "      <td>7.780782</td>\n",
              "      <td>1.289271</td>\n",
              "      <td>0.706476</td>\n",
              "      <td>6.126525</td>\n",
              "      <td>3.623137</td>\n",
              "      <td>3.222430</td>\n",
              "      <td>3.568136</td>\n",
              "    </tr>\n",
              "    <tr>\n",
              "      <th>min</th>\n",
              "      <td>18.000000</td>\n",
              "      <td>102.000000</td>\n",
              "      <td>1.000000</td>\n",
              "      <td>1.000000</td>\n",
              "      <td>1.0</td>\n",
              "      <td>1.000000</td>\n",
              "      <td>1.000000</td>\n",
              "      <td>30.000000</td>\n",
              "      <td>1.000000</td>\n",
              "      <td>1.000000</td>\n",
              "      <td>1.000000</td>\n",
              "      <td>1009.000000</td>\n",
              "      <td>2094.000000</td>\n",
              "      <td>0.000000</td>\n",
              "      <td>11.000000</td>\n",
              "      <td>3.000000</td>\n",
              "      <td>1.000000</td>\n",
              "      <td>80.0</td>\n",
              "      <td>0.000000</td>\n",
              "      <td>0.000000</td>\n",
              "      <td>0.000000</td>\n",
              "      <td>1.000000</td>\n",
              "      <td>0.000000</td>\n",
              "      <td>0.000000</td>\n",
              "      <td>0.000000</td>\n",
              "      <td>0.000000</td>\n",
              "    </tr>\n",
              "    <tr>\n",
              "      <th>25%</th>\n",
              "      <td>30.000000</td>\n",
              "      <td>465.000000</td>\n",
              "      <td>2.000000</td>\n",
              "      <td>2.000000</td>\n",
              "      <td>1.0</td>\n",
              "      <td>491.250000</td>\n",
              "      <td>2.000000</td>\n",
              "      <td>48.000000</td>\n",
              "      <td>2.000000</td>\n",
              "      <td>1.000000</td>\n",
              "      <td>2.000000</td>\n",
              "      <td>2911.000000</td>\n",
              "      <td>8047.000000</td>\n",
              "      <td>1.000000</td>\n",
              "      <td>12.000000</td>\n",
              "      <td>3.000000</td>\n",
              "      <td>2.000000</td>\n",
              "      <td>80.0</td>\n",
              "      <td>0.000000</td>\n",
              "      <td>6.000000</td>\n",
              "      <td>2.000000</td>\n",
              "      <td>2.000000</td>\n",
              "      <td>3.000000</td>\n",
              "      <td>2.000000</td>\n",
              "      <td>0.000000</td>\n",
              "      <td>2.000000</td>\n",
              "    </tr>\n",
              "    <tr>\n",
              "      <th>50%</th>\n",
              "      <td>36.000000</td>\n",
              "      <td>802.000000</td>\n",
              "      <td>7.000000</td>\n",
              "      <td>3.000000</td>\n",
              "      <td>1.0</td>\n",
              "      <td>1020.500000</td>\n",
              "      <td>3.000000</td>\n",
              "      <td>66.000000</td>\n",
              "      <td>3.000000</td>\n",
              "      <td>2.000000</td>\n",
              "      <td>3.000000</td>\n",
              "      <td>4919.000000</td>\n",
              "      <td>14235.500000</td>\n",
              "      <td>2.000000</td>\n",
              "      <td>14.000000</td>\n",
              "      <td>3.000000</td>\n",
              "      <td>3.000000</td>\n",
              "      <td>80.0</td>\n",
              "      <td>1.000000</td>\n",
              "      <td>10.000000</td>\n",
              "      <td>3.000000</td>\n",
              "      <td>3.000000</td>\n",
              "      <td>5.000000</td>\n",
              "      <td>3.000000</td>\n",
              "      <td>1.000000</td>\n",
              "      <td>3.000000</td>\n",
              "    </tr>\n",
              "    <tr>\n",
              "      <th>75%</th>\n",
              "      <td>43.000000</td>\n",
              "      <td>1157.000000</td>\n",
              "      <td>14.000000</td>\n",
              "      <td>4.000000</td>\n",
              "      <td>1.0</td>\n",
              "      <td>1555.750000</td>\n",
              "      <td>4.000000</td>\n",
              "      <td>83.750000</td>\n",
              "      <td>3.000000</td>\n",
              "      <td>3.000000</td>\n",
              "      <td>4.000000</td>\n",
              "      <td>8379.000000</td>\n",
              "      <td>20461.500000</td>\n",
              "      <td>4.000000</td>\n",
              "      <td>18.000000</td>\n",
              "      <td>3.000000</td>\n",
              "      <td>4.000000</td>\n",
              "      <td>80.0</td>\n",
              "      <td>1.000000</td>\n",
              "      <td>15.000000</td>\n",
              "      <td>3.000000</td>\n",
              "      <td>3.000000</td>\n",
              "      <td>9.000000</td>\n",
              "      <td>7.000000</td>\n",
              "      <td>3.000000</td>\n",
              "      <td>7.000000</td>\n",
              "    </tr>\n",
              "    <tr>\n",
              "      <th>max</th>\n",
              "      <td>60.000000</td>\n",
              "      <td>1499.000000</td>\n",
              "      <td>29.000000</td>\n",
              "      <td>5.000000</td>\n",
              "      <td>1.0</td>\n",
              "      <td>2068.000000</td>\n",
              "      <td>4.000000</td>\n",
              "      <td>100.000000</td>\n",
              "      <td>4.000000</td>\n",
              "      <td>5.000000</td>\n",
              "      <td>4.000000</td>\n",
              "      <td>19999.000000</td>\n",
              "      <td>26999.000000</td>\n",
              "      <td>9.000000</td>\n",
              "      <td>25.000000</td>\n",
              "      <td>4.000000</td>\n",
              "      <td>4.000000</td>\n",
              "      <td>80.0</td>\n",
              "      <td>3.000000</td>\n",
              "      <td>40.000000</td>\n",
              "      <td>6.000000</td>\n",
              "      <td>4.000000</td>\n",
              "      <td>40.000000</td>\n",
              "      <td>18.000000</td>\n",
              "      <td>15.000000</td>\n",
              "      <td>17.000000</td>\n",
              "    </tr>\n",
              "  </tbody>\n",
              "</table>\n",
              "</div>"
            ],
            "text/plain": [
              "               Age    DailyRate  DistanceFromHome    Education  EmployeeCount  \\\n",
              "count  1470.000000  1470.000000       1470.000000  1470.000000         1470.0   \n",
              "mean     36.923810   802.485714          9.192517     2.912925            1.0   \n",
              "std       9.135373   403.509100          8.106864     1.024165            0.0   \n",
              "min      18.000000   102.000000          1.000000     1.000000            1.0   \n",
              "25%      30.000000   465.000000          2.000000     2.000000            1.0   \n",
              "50%      36.000000   802.000000          7.000000     3.000000            1.0   \n",
              "75%      43.000000  1157.000000         14.000000     4.000000            1.0   \n",
              "max      60.000000  1499.000000         29.000000     5.000000            1.0   \n",
              "\n",
              "       EmployeeNumber  EnvironmentSatisfaction   HourlyRate  JobInvolvement  \\\n",
              "count     1470.000000              1470.000000  1470.000000     1470.000000   \n",
              "mean      1024.865306                 2.721769    65.891156        2.729932   \n",
              "std        602.024335                 1.093082    20.329428        0.711561   \n",
              "min          1.000000                 1.000000    30.000000        1.000000   \n",
              "25%        491.250000                 2.000000    48.000000        2.000000   \n",
              "50%       1020.500000                 3.000000    66.000000        3.000000   \n",
              "75%       1555.750000                 4.000000    83.750000        3.000000   \n",
              "max       2068.000000                 4.000000   100.000000        4.000000   \n",
              "\n",
              "          JobLevel  JobSatisfaction  MonthlyIncome   MonthlyRate  \\\n",
              "count  1470.000000      1470.000000    1470.000000   1470.000000   \n",
              "mean      2.063946         2.728571    6502.931293  14313.103401   \n",
              "std       1.106940         1.102846    4707.956783   7117.786044   \n",
              "min       1.000000         1.000000    1009.000000   2094.000000   \n",
              "25%       1.000000         2.000000    2911.000000   8047.000000   \n",
              "50%       2.000000         3.000000    4919.000000  14235.500000   \n",
              "75%       3.000000         4.000000    8379.000000  20461.500000   \n",
              "max       5.000000         4.000000   19999.000000  26999.000000   \n",
              "\n",
              "       NumCompaniesWorked  PercentSalaryHike  PerformanceRating  \\\n",
              "count         1470.000000        1470.000000        1470.000000   \n",
              "mean             2.693197          15.209524           3.153741   \n",
              "std              2.498009           3.659938           0.360824   \n",
              "min              0.000000          11.000000           3.000000   \n",
              "25%              1.000000          12.000000           3.000000   \n",
              "50%              2.000000          14.000000           3.000000   \n",
              "75%              4.000000          18.000000           3.000000   \n",
              "max              9.000000          25.000000           4.000000   \n",
              "\n",
              "       RelationshipSatisfaction  StandardHours  StockOptionLevel  \\\n",
              "count               1470.000000         1470.0       1470.000000   \n",
              "mean                   2.712245           80.0          0.793878   \n",
              "std                    1.081209            0.0          0.852077   \n",
              "min                    1.000000           80.0          0.000000   \n",
              "25%                    2.000000           80.0          0.000000   \n",
              "50%                    3.000000           80.0          1.000000   \n",
              "75%                    4.000000           80.0          1.000000   \n",
              "max                    4.000000           80.0          3.000000   \n",
              "\n",
              "       TotalWorkingYears  TrainingTimesLastYear  WorkLifeBalance  \\\n",
              "count        1470.000000            1470.000000      1470.000000   \n",
              "mean           11.279592               2.799320         2.761224   \n",
              "std             7.780782               1.289271         0.706476   \n",
              "min             0.000000               0.000000         1.000000   \n",
              "25%             6.000000               2.000000         2.000000   \n",
              "50%            10.000000               3.000000         3.000000   \n",
              "75%            15.000000               3.000000         3.000000   \n",
              "max            40.000000               6.000000         4.000000   \n",
              "\n",
              "       YearsAtCompany  YearsInCurrentRole  YearsSinceLastPromotion  \\\n",
              "count     1470.000000         1470.000000              1470.000000   \n",
              "mean         7.008163            4.229252                 2.187755   \n",
              "std          6.126525            3.623137                 3.222430   \n",
              "min          0.000000            0.000000                 0.000000   \n",
              "25%          3.000000            2.000000                 0.000000   \n",
              "50%          5.000000            3.000000                 1.000000   \n",
              "75%          9.000000            7.000000                 3.000000   \n",
              "max         40.000000           18.000000                15.000000   \n",
              "\n",
              "       YearsWithCurrManager  \n",
              "count           1470.000000  \n",
              "mean               4.123129  \n",
              "std                3.568136  \n",
              "min                0.000000  \n",
              "25%                2.000000  \n",
              "50%                3.000000  \n",
              "75%                7.000000  \n",
              "max               17.000000  "
            ]
          },
          "metadata": {},
          "execution_count": 10
        }
      ]
    },
    {
      "cell_type": "code",
      "metadata": {
        "colab": {
          "base_uri": "https://localhost:8080/",
          "height": 173
        },
        "id": "LDAAmRVG-GDq",
        "outputId": "d918da8e-2ecc-4c7f-cc2c-c03a1bbb18e3"
      },
      "source": [
        "emp_data_org.describe(include=[np.object])"
      ],
      "execution_count": 11,
      "outputs": [
        {
          "output_type": "execute_result",
          "data": {
            "text/html": [
              "<div>\n",
              "<style scoped>\n",
              "    .dataframe tbody tr th:only-of-type {\n",
              "        vertical-align: middle;\n",
              "    }\n",
              "\n",
              "    .dataframe tbody tr th {\n",
              "        vertical-align: top;\n",
              "    }\n",
              "\n",
              "    .dataframe thead th {\n",
              "        text-align: right;\n",
              "    }\n",
              "</style>\n",
              "<table border=\"1\" class=\"dataframe\">\n",
              "  <thead>\n",
              "    <tr style=\"text-align: right;\">\n",
              "      <th></th>\n",
              "      <th>Attrition</th>\n",
              "      <th>BusinessTravel</th>\n",
              "      <th>Department</th>\n",
              "      <th>EducationField</th>\n",
              "      <th>Gender</th>\n",
              "      <th>JobRole</th>\n",
              "      <th>MaritalStatus</th>\n",
              "      <th>Over18</th>\n",
              "      <th>OverTime</th>\n",
              "    </tr>\n",
              "  </thead>\n",
              "  <tbody>\n",
              "    <tr>\n",
              "      <th>count</th>\n",
              "      <td>1470</td>\n",
              "      <td>1470</td>\n",
              "      <td>1470</td>\n",
              "      <td>1470</td>\n",
              "      <td>1470</td>\n",
              "      <td>1470</td>\n",
              "      <td>1470</td>\n",
              "      <td>1470</td>\n",
              "      <td>1470</td>\n",
              "    </tr>\n",
              "    <tr>\n",
              "      <th>unique</th>\n",
              "      <td>2</td>\n",
              "      <td>3</td>\n",
              "      <td>3</td>\n",
              "      <td>6</td>\n",
              "      <td>2</td>\n",
              "      <td>9</td>\n",
              "      <td>3</td>\n",
              "      <td>1</td>\n",
              "      <td>2</td>\n",
              "    </tr>\n",
              "    <tr>\n",
              "      <th>top</th>\n",
              "      <td>No</td>\n",
              "      <td>Travel_Rarely</td>\n",
              "      <td>Research &amp; Development</td>\n",
              "      <td>Life Sciences</td>\n",
              "      <td>Male</td>\n",
              "      <td>Sales Executive</td>\n",
              "      <td>Married</td>\n",
              "      <td>Y</td>\n",
              "      <td>No</td>\n",
              "    </tr>\n",
              "    <tr>\n",
              "      <th>freq</th>\n",
              "      <td>1233</td>\n",
              "      <td>1043</td>\n",
              "      <td>961</td>\n",
              "      <td>606</td>\n",
              "      <td>882</td>\n",
              "      <td>326</td>\n",
              "      <td>673</td>\n",
              "      <td>1470</td>\n",
              "      <td>1054</td>\n",
              "    </tr>\n",
              "  </tbody>\n",
              "</table>\n",
              "</div>"
            ],
            "text/plain": [
              "       Attrition BusinessTravel              Department EducationField Gender  \\\n",
              "count       1470           1470                    1470           1470   1470   \n",
              "unique         2              3                       3              6      2   \n",
              "top           No  Travel_Rarely  Research & Development  Life Sciences   Male   \n",
              "freq        1233           1043                     961            606    882   \n",
              "\n",
              "                JobRole MaritalStatus Over18 OverTime  \n",
              "count              1470          1470   1470     1470  \n",
              "unique                9             3      1        2  \n",
              "top     Sales Executive       Married      Y       No  \n",
              "freq                326           673   1470     1054  "
            ]
          },
          "metadata": {},
          "execution_count": 11
        }
      ]
    },
    {
      "cell_type": "markdown",
      "metadata": {
        "id": "2TsioM3w-kFp"
      },
      "source": [
        "\n",
        "\n",
        "*   EmployeeNumber can be removed as it is an unique representation of Employee and \n",
        "doesn't have any significance with attrition.\n",
        "*   EmployeCount has only 1 value which again won't help in our prediction model.\n",
        "\n",
        "\n",
        "*   StandardHours has only one value which is 80, again won't help in our prediction model.\n",
        "*   Over18 has only one value, which represents that all employees are over the age of 18. Thus we can remove it as it won't affect the prediction model."
      ]
    },
    {
      "cell_type": "markdown",
      "metadata": {
        "id": "InymNJKO_cKu"
      },
      "source": [
        "**Attrition Target Variable Distribution**"
      ]
    },
    {
      "cell_type": "code",
      "metadata": {
        "colab": {
          "base_uri": "https://localhost:8080/",
          "height": 347
        },
        "id": "09cSm_XP-Wnr",
        "outputId": "3b340890-d3cb-4e34-a13c-869e9f4a3216"
      },
      "source": [
        "attrition_freq = emp_data_org[['Attrition']].apply(lambda x: x.value_counts())\n",
        "attrition_freq['frequency_percent'] = round((100 * attrition_freq / attrition_freq.sum()),2)\n",
        "\n",
        "print(attrition_freq)\n",
        "\n",
        "# Attrition distribution bar plot\n",
        "plot = attrition_freq[['frequency_percent']].plot(kind=\"bar\");\n",
        "plot.set_title(\"Attrition Distribution\", fontsize=20);\n",
        "plot.grid(color='lightgray', alpha=0.5);"
      ],
      "execution_count": 12,
      "outputs": [
        {
          "output_type": "stream",
          "name": "stdout",
          "text": [
            "     Attrition  frequency_percent\n",
            "No        1233              83.88\n",
            "Yes        237              16.12\n"
          ]
        },
        {
          "output_type": "display_data",
          "data": {
            "image/png": "[encoded data removed]",
            "text/plain": [
              "<Figure size 1152x288 with 1 Axes>"
            ]
          },
          "metadata": {
            "needs_background": "light"
          }
        }
      ]
    },
    {
      "cell_type": "markdown",
      "metadata": {
        "id": "cWAkz-kh_t1V"
      },
      "source": [
        "The quick inspection of Yes and No of the attrition distribution, we can see that there is a significant imbalance in the dataset. Thus it is needed to be mindful about handiling it."
      ]
    },
    {
      "cell_type": "markdown",
      "metadata": {
        "id": "EjQ737Ar_8yN"
      },
      "source": [
        "**Exploratory Data Analysis**"
      ]
    },
    {
      "cell_type": "markdown",
      "metadata": {
        "id": "VxRYCOT_AHfl"
      },
      "source": [
        "1. Identifying features with null values"
      ]
    },
    {
      "cell_type": "code",
      "metadata": {
        "colab": {
          "base_uri": "https://localhost:8080/"
        },
        "id": "2r1d38GR_k22",
        "outputId": "6c7fd8de-69a4-4397-be38-a97bc2ff6912"
      },
      "source": [
        "null_feat_df = pd.DataFrame()\n",
        "null_feat_df['Null Count'] = emp_data_org.isnull().sum().sort_values(ascending=False)\n",
        "null_feat_df['Null Pct'] = null_feat_df['Null Count'] / float(len(emp_data_org))\n",
        "\n",
        "null_feat_df = null_feat_df[null_feat_df['Null Pct'] > 0]\n",
        "\n",
        "total_null_feats = null_feat_df.shape[0]\n",
        "null_feat_names = null_feat_df.index\n",
        "print('Total number of features having null values: ', total_null_feats)\n",
        "del null_feat_df"
      ],
      "execution_count": 13,
      "outputs": [
        {
          "output_type": "stream",
          "name": "stdout",
          "text": [
            "Total number of features having null values:  0\n"
          ]
        }
      ]
    },
    {
      "cell_type": "markdown",
      "metadata": {
        "id": "hLj2VuPYAQnV"
      },
      "source": [
        "2. Categorical Features and their behaviour against attrition indicator"
      ]
    },
    {
      "cell_type": "code",
      "metadata": {
        "colab": {
          "base_uri": "https://localhost:8080/",
          "height": 309
        },
        "id": "E6Cxm5x0ANKK",
        "outputId": "4d62bffb-3366-4104-e8d2-1cc5a8da8d52"
      },
      "source": [
        "emp_viz_df = emp_data_org.copy() # Copy cleaned dataset for EDA & feature changes\n",
        "\n",
        "# Adding two features for attrition: Employee left and not left\n",
        "emp_viz_df['Attrition_Yes'] = emp_viz_df['Attrition'].map({'Yes':1, 'No':0}) # 1 means Employee Left\n",
        "emp_viz_df['Attrition_No'] = emp_viz_df['Attrition'].map({'Yes':0, 'No':1}) # 1 means Employee didnt leave\n",
        "\n",
        "emp_viz_df.head()"
      ],
      "execution_count": 14,
      "outputs": [
        {
          "output_type": "execute_result",
          "data": {
            "text/html": [
              "<div>\n",
              "<style scoped>\n",
              "    .dataframe tbody tr th:only-of-type {\n",
              "        vertical-align: middle;\n",
              "    }\n",
              "\n",
              "    .dataframe tbody tr th {\n",
              "        vertical-align: top;\n",
              "    }\n",
              "\n",
              "    .dataframe thead th {\n",
              "        text-align: right;\n",
              "    }\n",
              "</style>\n",
              "<table border=\"1\" class=\"dataframe\">\n",
              "  <thead>\n",
              "    <tr style=\"text-align: right;\">\n",
              "      <th></th>\n",
              "      <th>Age</th>\n",
              "      <th>Attrition</th>\n",
              "      <th>BusinessTravel</th>\n",
              "      <th>DailyRate</th>\n",
              "      <th>Department</th>\n",
              "      <th>DistanceFromHome</th>\n",
              "      <th>Education</th>\n",
              "      <th>EducationField</th>\n",
              "      <th>EmployeeCount</th>\n",
              "      <th>EmployeeNumber</th>\n",
              "      <th>EnvironmentSatisfaction</th>\n",
              "      <th>Gender</th>\n",
              "      <th>HourlyRate</th>\n",
              "      <th>JobInvolvement</th>\n",
              "      <th>JobLevel</th>\n",
              "      <th>JobRole</th>\n",
              "      <th>JobSatisfaction</th>\n",
              "      <th>MaritalStatus</th>\n",
              "      <th>MonthlyIncome</th>\n",
              "      <th>MonthlyRate</th>\n",
              "      <th>NumCompaniesWorked</th>\n",
              "      <th>Over18</th>\n",
              "      <th>OverTime</th>\n",
              "      <th>PercentSalaryHike</th>\n",
              "      <th>PerformanceRating</th>\n",
              "      <th>RelationshipSatisfaction</th>\n",
              "      <th>StandardHours</th>\n",
              "      <th>StockOptionLevel</th>\n",
              "      <th>TotalWorkingYears</th>\n",
              "      <th>TrainingTimesLastYear</th>\n",
              "      <th>WorkLifeBalance</th>\n",
              "      <th>YearsAtCompany</th>\n",
              "      <th>YearsInCurrentRole</th>\n",
              "      <th>YearsSinceLastPromotion</th>\n",
              "      <th>YearsWithCurrManager</th>\n",
              "      <th>Attrition_Yes</th>\n",
              "      <th>Attrition_No</th>\n",
              "    </tr>\n",
              "  </thead>\n",
              "  <tbody>\n",
              "    <tr>\n",
              "      <th>0</th>\n",
              "      <td>41</td>\n",
              "      <td>Yes</td>\n",
              "      <td>Travel_Rarely</td>\n",
              "      <td>1102</td>\n",
              "      <td>Sales</td>\n",
              "      <td>1</td>\n",
              "      <td>2</td>\n",
              "      <td>Life Sciences</td>\n",
              "      <td>1</td>\n",
              "      <td>1</td>\n",
              "      <td>2</td>\n",
              "      <td>Female</td>\n",
              "      <td>94</td>\n",
              "      <td>3</td>\n",
              "      <td>2</td>\n",
              "      <td>Sales Executive</td>\n",
              "      <td>4</td>\n",
              "      <td>Single</td>\n",
              "      <td>5993</td>\n",
              "      <td>19479</td>\n",
              "      <td>8</td>\n",
              "      <td>Y</td>\n",
              "      <td>Yes</td>\n",
              "      <td>11</td>\n",
              "      <td>3</td>\n",
              "      <td>1</td>\n",
              "      <td>80</td>\n",
              "      <td>0</td>\n",
              "      <td>8</td>\n",
              "      <td>0</td>\n",
              "      <td>1</td>\n",
              "      <td>6</td>\n",
              "      <td>4</td>\n",
              "      <td>0</td>\n",
              "      <td>5</td>\n",
              "      <td>1</td>\n",
              "      <td>0</td>\n",
              "    </tr>\n",
              "    <tr>\n",
              "      <th>1</th>\n",
              "      <td>49</td>\n",
              "      <td>No</td>\n",
              "      <td>Travel_Frequently</td>\n",
              "      <td>279</td>\n",
              "      <td>Research &amp; Development</td>\n",
              "      <td>8</td>\n",
              "      <td>1</td>\n",
              "      <td>Life Sciences</td>\n",
              "      <td>1</td>\n",
              "      <td>2</td>\n",
              "      <td>3</td>\n",
              "      <td>Male</td>\n",
              "      <td>61</td>\n",
              "      <td>2</td>\n",
              "      <td>2</td>\n",
              "      <td>Research Scientist</td>\n",
              "      <td>2</td>\n",
              "      <td>Married</td>\n",
              "      <td>5130</td>\n",
              "      <td>24907</td>\n",
              "      <td>1</td>\n",
              "      <td>Y</td>\n",
              "      <td>No</td>\n",
              "      <td>23</td>\n",
              "      <td>4</td>\n",
              "      <td>4</td>\n",
              "      <td>80</td>\n",
              "      <td>1</td>\n",
              "      <td>10</td>\n",
              "      <td>3</td>\n",
              "      <td>3</td>\n",
              "      <td>10</td>\n",
              "      <td>7</td>\n",
              "      <td>1</td>\n",
              "      <td>7</td>\n",
              "      <td>0</td>\n",
              "      <td>1</td>\n",
              "    </tr>\n",
              "    <tr>\n",
              "      <th>2</th>\n",
              "      <td>37</td>\n",
              "      <td>Yes</td>\n",
              "      <td>Travel_Rarely</td>\n",
              "      <td>1373</td>\n",
              "      <td>Research &amp; Development</td>\n",
              "      <td>2</td>\n",
              "      <td>2</td>\n",
              "      <td>Other</td>\n",
              "      <td>1</td>\n",
              "      <td>4</td>\n",
              "      <td>4</td>\n",
              "      <td>Male</td>\n",
              "      <td>92</td>\n",
              "      <td>2</td>\n",
              "      <td>1</td>\n",
              "      <td>Laboratory Technician</td>\n",
              "      <td>3</td>\n",
              "      <td>Single</td>\n",
              "      <td>2090</td>\n",
              "      <td>2396</td>\n",
              "      <td>6</td>\n",
              "      <td>Y</td>\n",
              "      <td>Yes</td>\n",
              "      <td>15</td>\n",
              "      <td>3</td>\n",
              "      <td>2</td>\n",
              "      <td>80</td>\n",
              "      <td>0</td>\n",
              "      <td>7</td>\n",
              "      <td>3</td>\n",
              "      <td>3</td>\n",
              "      <td>0</td>\n",
              "      <td>0</td>\n",
              "      <td>0</td>\n",
              "      <td>0</td>\n",
              "      <td>1</td>\n",
              "      <td>0</td>\n",
              "    </tr>\n",
              "    <tr>\n",
              "      <th>3</th>\n",
              "      <td>33</td>\n",
              "      <td>No</td>\n",
              "      <td>Travel_Frequently</td>\n",
              "      <td>1392</td>\n",
              "      <td>Research &amp; Development</td>\n",
              "      <td>3</td>\n",
              "      <td>4</td>\n",
              "      <td>Life Sciences</td>\n",
              "      <td>1</td>\n",
              "      <td>5</td>\n",
              "      <td>4</td>\n",
              "      <td>Female</td>\n",
              "      <td>56</td>\n",
              "      <td>3</td>\n",
              "      <td>1</td>\n",
              "      <td>Research Scientist</td>\n",
              "      <td>3</td>\n",
              "      <td>Married</td>\n",
              "      <td>2909</td>\n",
              "      <td>23159</td>\n",
              "      <td>1</td>\n",
              "      <td>Y</td>\n",
              "      <td>Yes</td>\n",
              "      <td>11</td>\n",
              "      <td>3</td>\n",
              "      <td>3</td>\n",
              "      <td>80</td>\n",
              "      <td>0</td>\n",
              "      <td>8</td>\n",
              "      <td>3</td>\n",
              "      <td>3</td>\n",
              "      <td>8</td>\n",
              "      <td>7</td>\n",
              "      <td>3</td>\n",
              "      <td>0</td>\n",
              "      <td>0</td>\n",
              "      <td>1</td>\n",
              "    </tr>\n",
              "    <tr>\n",
              "      <th>4</th>\n",
              "      <td>27</td>\n",
              "      <td>No</td>\n",
              "      <td>Travel_Rarely</td>\n",
              "      <td>591</td>\n",
              "      <td>Research &amp; Development</td>\n",
              "      <td>2</td>\n",
              "      <td>1</td>\n",
              "      <td>Medical</td>\n",
              "      <td>1</td>\n",
              "      <td>7</td>\n",
              "      <td>1</td>\n",
              "      <td>Male</td>\n",
              "      <td>40</td>\n",
              "      <td>3</td>\n",
              "      <td>1</td>\n",
              "      <td>Laboratory Technician</td>\n",
              "      <td>2</td>\n",
              "      <td>Married</td>\n",
              "      <td>3468</td>\n",
              "      <td>16632</td>\n",
              "      <td>9</td>\n",
              "      <td>Y</td>\n",
              "      <td>No</td>\n",
              "      <td>12</td>\n",
              "      <td>3</td>\n",
              "      <td>4</td>\n",
              "      <td>80</td>\n",
              "      <td>1</td>\n",
              "      <td>6</td>\n",
              "      <td>3</td>\n",
              "      <td>3</td>\n",
              "      <td>2</td>\n",
              "      <td>2</td>\n",
              "      <td>2</td>\n",
              "      <td>2</td>\n",
              "      <td>0</td>\n",
              "      <td>1</td>\n",
              "    </tr>\n",
              "  </tbody>\n",
              "</table>\n",
              "</div>"
            ],
            "text/plain": [
              "   Age Attrition     BusinessTravel  DailyRate              Department  \\\n",
              "0   41       Yes      Travel_Rarely       1102                   Sales   \n",
              "1   49        No  Travel_Frequently        279  Research & Development   \n",
              "2   37       Yes      Travel_Rarely       1373  Research & Development   \n",
              "3   33        No  Travel_Frequently       1392  Research & Development   \n",
              "4   27        No      Travel_Rarely        591  Research & Development   \n",
              "\n",
              "   DistanceFromHome  Education EducationField  EmployeeCount  EmployeeNumber  \\\n",
              "0                 1          2  Life Sciences              1               1   \n",
              "1                 8          1  Life Sciences              1               2   \n",
              "2                 2          2          Other              1               4   \n",
              "3                 3          4  Life Sciences              1               5   \n",
              "4                 2          1        Medical              1               7   \n",
              "\n",
              "   EnvironmentSatisfaction  Gender  HourlyRate  JobInvolvement  JobLevel  \\\n",
              "0                        2  Female          94               3         2   \n",
              "1                        3    Male          61               2         2   \n",
              "2                        4    Male          92               2         1   \n",
              "3                        4  Female          56               3         1   \n",
              "4                        1    Male          40               3         1   \n",
              "\n",
              "                 JobRole  JobSatisfaction MaritalStatus  MonthlyIncome  \\\n",
              "0        Sales Executive                4        Single           5993   \n",
              "1     Research Scientist                2       Married           5130   \n",
              "2  Laboratory Technician                3        Single           2090   \n",
              "3     Research Scientist                3       Married           2909   \n",
              "4  Laboratory Technician                2       Married           3468   \n",
              "\n",
              "   MonthlyRate  NumCompaniesWorked Over18 OverTime  PercentSalaryHike  \\\n",
              "0        19479                   8      Y      Yes                 11   \n",
              "1        24907                   1      Y       No                 23   \n",
              "2         2396                   6      Y      Yes                 15   \n",
              "3        23159                   1      Y      Yes                 11   \n",
              "4        16632                   9      Y       No                 12   \n",
              "\n",
              "   PerformanceRating  RelationshipSatisfaction  StandardHours  \\\n",
              "0                  3                         1             80   \n",
              "1                  4                         4             80   \n",
              "2                  3                         2             80   \n",
              "3                  3                         3             80   \n",
              "4                  3                         4             80   \n",
              "\n",
              "   StockOptionLevel  TotalWorkingYears  TrainingTimesLastYear  \\\n",
              "0                 0                  8                      0   \n",
              "1                 1                 10                      3   \n",
              "2                 0                  7                      3   \n",
              "3                 0                  8                      3   \n",
              "4                 1                  6                      3   \n",
              "\n",
              "   WorkLifeBalance  YearsAtCompany  YearsInCurrentRole  \\\n",
              "0                1               6                   4   \n",
              "1                3              10                   7   \n",
              "2                3               0                   0   \n",
              "3                3               8                   7   \n",
              "4                3               2                   2   \n",
              "\n",
              "   YearsSinceLastPromotion  YearsWithCurrManager  Attrition_Yes  Attrition_No  \n",
              "0                        0                     5              1             0  \n",
              "1                        1                     7              0             1  \n",
              "2                        0                     0              1             0  \n",
              "3                        3                     0              0             1  \n",
              "4                        2                     2              0             1  "
            ]
          },
          "metadata": {},
          "execution_count": 14
        }
      ]
    },
    {
      "cell_type": "code",
      "metadata": {
        "colab": {
          "base_uri": "https://localhost:8080/"
        },
        "id": "iZ7BJGdKAotp",
        "outputId": "5ed1d99e-341f-4ee7-a517-c9a4e0658e3d"
      },
      "source": [
        "# getting categorical features names:\n",
        "cat_col_names = emp_viz_df.select_dtypes(include=[np.object]).columns.tolist() \n",
        "cat_col_names"
      ],
      "execution_count": 15,
      "outputs": [
        {
          "output_type": "execute_result",
          "data": {
            "text/plain": [
              "['Attrition',\n",
              " 'BusinessTravel',\n",
              " 'Department',\n",
              " 'EducationField',\n",
              " 'Gender',\n",
              " 'JobRole',\n",
              " 'MaritalStatus',\n",
              " 'Over18',\n",
              " 'OverTime']"
            ]
          },
          "metadata": {},
          "execution_count": 15
        }
      ]
    },
    {
      "cell_type": "code",
      "metadata": {
        "id": "IfuvSCBeAx3G"
      },
      "source": [
        "# Plotting of Employee Attrition against features using a function\n",
        "    \n",
        "def generate_frequency_graph(col_name):\n",
        "    \n",
        "    \n",
        "    temp_grp = emp_viz_df.groupby(col_name).agg('sum')[['Attrition_Yes', 'Attrition_No']]\n",
        "    temp_grp['Percentage Attrition'] =  temp_grp['Attrition_Yes'] / (temp_grp['Attrition_Yes'] + temp_grp['Attrition_No']) * 100\n",
        "    print(temp_grp)\n",
        "    emp_viz_df.groupby(col_name).agg('sum')[['Attrition_Yes', 'Attrition_No']].plot(kind='bar', stacked=False, color=['red', 'green'])\n",
        "    plt.xlabel(col_name)\n",
        "    plt.ylabel('Attrition');"
      ],
      "execution_count": 16,
      "outputs": []
    },
    {
      "cell_type": "code",
      "metadata": {
        "colab": {
          "base_uri": "https://localhost:8080/",
          "height": 464
        },
        "id": "NFoWSXs1A7xt",
        "outputId": "7e95e7c5-7c01-42aa-91db-1e4b4be9d94b"
      },
      "source": [
        "# Plotting of Employee Attrition against Business Travel feature\n",
        "generate_frequency_graph('BusinessTravel')"
      ],
      "execution_count": 17,
      "outputs": [
        {
          "output_type": "stream",
          "name": "stdout",
          "text": [
            "                   Attrition_Yes  Attrition_No  Percentage Attrition\n",
            "BusinessTravel                                                      \n",
            "Non-Travel                    12           138              8.000000\n",
            "Travel_Frequently             69           208             24.909747\n",
            "Travel_Rarely                156           887             14.956855\n"
          ]
        },
        {
          "output_type": "display_data",
          "data": {
            "image/png": "[encoded data removed]",
            "text/plain": [
              "<Figure size 1152x288 with 1 Axes>"
            ]
          },
          "metadata": {
            "needs_background": "light"
          }
        }
      ]
    },
    {
      "cell_type": "code",
      "metadata": {
        "colab": {
          "base_uri": "https://localhost:8080/",
          "height": 512
        },
        "id": "DFx5iDIPBBWg",
        "outputId": "e29f50fc-87ac-44a0-abef-ee4f053ce258"
      },
      "source": [
        "# Plotting of Employee Attrition against Department feature\n",
        "generate_frequency_graph('Department')"
      ],
      "execution_count": 18,
      "outputs": [
        {
          "output_type": "stream",
          "name": "stdout",
          "text": [
            "                        Attrition_Yes  Attrition_No  Percentage Attrition\n",
            "Department                                                               \n",
            "Human Resources                    12            51             19.047619\n",
            "Research & Development            133           828             13.839750\n",
            "Sales                              92           354             20.627803\n"
          ]
        },
        {
          "output_type": "display_data",
          "data": {
            "image/png": "[encoded data removed]",
            "text/plain": [
              "<Figure size 1152x288 with 1 Axes>"
            ]
          },
          "metadata": {
            "needs_background": "light"
          }
        }
      ]
    },
    {
      "cell_type": "code",
      "metadata": {
        "colab": {
          "base_uri": "https://localhost:8080/",
          "height": 385
        },
        "id": "J_D0DFeqBH4w",
        "outputId": "b2a5575a-48d9-4770-996f-b5eba75b00b7"
      },
      "source": [
        "# Plotting of Employee Attrition against Gender feature\n",
        "generate_frequency_graph('Gender')"
      ],
      "execution_count": 19,
      "outputs": [
        {
          "output_type": "stream",
          "name": "stdout",
          "text": [
            "        Attrition_Yes  Attrition_No  Percentage Attrition\n",
            "Gender                                                   \n",
            "Female             87           501             14.795918\n",
            "Male              150           732             17.006803\n"
          ]
        },
        {
          "output_type": "display_data",
          "data": {
            "image/png": "[encoded data removed]",
            "text/plain": [
              "<Figure size 1152x288 with 1 Axes>"
            ]
          },
          "metadata": {
            "needs_background": "light"
          }
        }
      ]
    },
    {
      "cell_type": "code",
      "metadata": {
        "colab": {
          "base_uri": "https://localhost:8080/",
          "height": 412
        },
        "id": "rfgiRzC3BJ4v",
        "outputId": "b5d53e05-5522-4e94-8dbe-d98693ed95d5"
      },
      "source": [
        "# Plotting of Employee Attrition against MaritalStatus feature\n",
        "generate_frequency_graph('MaritalStatus')"
      ],
      "execution_count": 20,
      "outputs": [
        {
          "output_type": "stream",
          "name": "stdout",
          "text": [
            "               Attrition_Yes  Attrition_No  Percentage Attrition\n",
            "MaritalStatus                                                   \n",
            "Divorced                  33           294             10.091743\n",
            "Married                   84           589             12.481426\n",
            "Single                   120           350             25.531915\n"
          ]
        },
        {
          "output_type": "display_data",
          "data": {
            "image/png": "[encoded data removed]",
            "text/plain": [
              "<Figure size 1152x288 with 1 Axes>"
            ]
          },
          "metadata": {
            "needs_background": "light"
          }
        }
      ]
    },
    {
      "cell_type": "code",
      "metadata": {
        "colab": {
          "base_uri": "https://localhost:8080/",
          "height": 361
        },
        "id": "chC5_ZSQBM7u",
        "outputId": "1612d35c-83ce-4d6a-ca85-e22d8e3cab88"
      },
      "source": [
        "# Plotting of Employee Attrition against MaritalStatus feature\n",
        "generate_frequency_graph('OverTime')"
      ],
      "execution_count": 21,
      "outputs": [
        {
          "output_type": "stream",
          "name": "stdout",
          "text": [
            "          Attrition_Yes  Attrition_No  Percentage Attrition\n",
            "OverTime                                                   \n",
            "No                  110           944             10.436433\n",
            "Yes                 127           289             30.528846\n"
          ]
        },
        {
          "output_type": "display_data",
          "data": {
            "image/png": "[encoded data removed]",
            "text/plain": [
              "<Figure size 1152x288 with 1 Axes>"
            ]
          },
          "metadata": {
            "needs_background": "light"
          }
        }
      ]
    },
    {
      "cell_type": "code",
      "metadata": {
        "colab": {
          "base_uri": "https://localhost:8080/",
          "height": 400
        },
        "id": "_iCFxwKZBOyh",
        "outputId": "f0c9b012-43f4-4a16-c8b4-084a2e74a8e6"
      },
      "source": [
        "# Plotting of Employee Attrition against Education feature\n",
        "\n",
        "# Representations of the indices is as follows\n",
        "# 1-Below College, 2-College, 3-Bachelor, 4-Master, 5-Doctor\n",
        "generate_frequency_graph('Education')"
      ],
      "execution_count": 23,
      "outputs": [
        {
          "output_type": "stream",
          "name": "stdout",
          "text": [
            "           Attrition_Yes  Attrition_No  Percentage Attrition\n",
            "Education                                                   \n",
            "1                     31           139             18.235294\n",
            "2                     44           238             15.602837\n",
            "3                     99           473             17.307692\n",
            "4                     58           340             14.572864\n",
            "5                      5            43             10.416667\n"
          ]
        },
        {
          "output_type": "display_data",
          "data": {
            "image/png": "[encoded data removed]",
            "text/plain": [
              "<Figure size 1152x288 with 1 Axes>"
            ]
          },
          "metadata": {
            "needs_background": "light"
          }
        }
      ]
    },
    {
      "cell_type": "code",
      "metadata": {
        "colab": {
          "base_uri": "https://localhost:8080/",
          "height": 383
        },
        "id": "v8AAVbCgBV-q",
        "outputId": "138ca91e-b001-418e-d7e1-f2f6a9e7039b"
      },
      "source": [
        "# Plotting of Employee Attrition against Education feature\n",
        "# 1-Low, 2-Medium, 3-High, 4-Very High\n",
        "generate_frequency_graph('JobSatisfaction')"
      ],
      "execution_count": 24,
      "outputs": [
        {
          "output_type": "stream",
          "name": "stdout",
          "text": [
            "                 Attrition_Yes  Attrition_No  Percentage Attrition\n",
            "JobSatisfaction                                                   \n",
            "1                           66           223             22.837370\n",
            "2                           46           234             16.428571\n",
            "3                           73           369             16.515837\n",
            "4                           52           407             11.328976\n"
          ]
        },
        {
          "output_type": "display_data",
          "data": {
            "image/png": "[encoded data removed]",
            "text/plain": [
              "<Figure size 1152x288 with 1 Axes>"
            ]
          },
          "metadata": {
            "needs_background": "light"
          }
        }
      ]
    },
    {
      "cell_type": "code",
      "metadata": {
        "colab": {
          "base_uri": "https://localhost:8080/",
          "height": 387
        },
        "id": "W1vgP6EdBhgu",
        "outputId": "2d2dd887-eb2e-4657-9667-a6c9f8d1d011"
      },
      "source": [
        "# Plotting of Employee Attrition against Education feature\n",
        "# 1-Bad, 2-Good, 3-Better, 4-Best\n",
        "generate_frequency_graph('WorkLifeBalance')"
      ],
      "execution_count": 25,
      "outputs": [
        {
          "output_type": "stream",
          "name": "stdout",
          "text": [
            "                 Attrition_Yes  Attrition_No  Percentage Attrition\n",
            "WorkLifeBalance                                                   \n",
            "1                           25            55             31.250000\n",
            "2                           58           286             16.860465\n",
            "3                          127           766             14.221725\n",
            "4                           27           126             17.647059\n"
          ]
        },
        {
          "output_type": "display_data",
          "data": {
            "image/png": "[encoded data removed]",
            "text/plain": [
              "<Figure size 1152x288 with 1 Axes>"
            ]
          },
          "metadata": {
            "needs_background": "light"
          }
        }
      ]
    },
    {
      "cell_type": "code",
      "metadata": {
        "colab": {
          "base_uri": "https://localhost:8080/",
          "height": 383
        },
        "id": "XBGg0V7aBkJH",
        "outputId": "6dee7aa9-3b68-4e27-ea84-bcb00564ff9a"
      },
      "source": [
        "# Plotting of Employee Attrition against Environmental Satisfaction at the workplace\n",
        "# 1-Bad, 2-Good, 3-Better, 4-Best\n",
        "generate_frequency_graph('EnvironmentSatisfaction')"
      ],
      "execution_count": 26,
      "outputs": [
        {
          "output_type": "stream",
          "name": "stdout",
          "text": [
            "                         Attrition_Yes  Attrition_No  Percentage Attrition\n",
            "EnvironmentSatisfaction                                                   \n",
            "1                                   72           212             25.352113\n",
            "2                                   43           244             14.982578\n",
            "3                                   62           391             13.686534\n",
            "4                                   60           386             13.452915\n"
          ]
        },
        {
          "output_type": "display_data",
          "data": {
            "image/png": "[encoded data removed]",
            "text/plain": [
              "<Figure size 1152x288 with 1 Axes>"
            ]
          },
          "metadata": {
            "needs_background": "light"
          }
        }
      ]
    },
    {
      "cell_type": "code",
      "metadata": {
        "colab": {
          "base_uri": "https://localhost:8080/",
          "height": 383
        },
        "id": "K_ChUswWBqRk",
        "outputId": "0e88fdd2-bfd6-4d78-d9aa-d989761861dc"
      },
      "source": [
        "# Plotting of Employee Attrition against Job Involvement at the workplace\n",
        "# 1-Bad, 2-Good, 3-Better, 4-Best\n",
        "generate_frequency_graph('JobInvolvement')\n"
      ],
      "execution_count": 27,
      "outputs": [
        {
          "output_type": "stream",
          "name": "stdout",
          "text": [
            "                Attrition_Yes  Attrition_No  Percentage Attrition\n",
            "JobInvolvement                                                   \n",
            "1                          28            55             33.734940\n",
            "2                          71           304             18.933333\n",
            "3                         125           743             14.400922\n",
            "4                          13           131              9.027778\n"
          ]
        },
        {
          "output_type": "display_data",
          "data": {
            "image/png": "[encoded data removed]",
            "text/plain": [
              "<Figure size 1152x288 with 1 Axes>"
            ]
          },
          "metadata": {
            "needs_background": "light"
          }
        }
      ]
    },
    {
      "cell_type": "markdown",
      "metadata": {
        "id": "CFtIYDl-COOc"
      },
      "source": [
        "Numerical Features for EDA"
      ]
    },
    {
      "cell_type": "code",
      "metadata": {
        "colab": {
          "base_uri": "https://localhost:8080/",
          "height": 297
        },
        "id": "3aPpM41SCIw9",
        "outputId": "8f1fc0aa-634f-478b-b964-73d0a159bb77"
      },
      "source": [
        "fig = plt.figure(figsize=(16,4))\n",
        "\n",
        "# Histogram Plot for Employee Age\n",
        "plt.subplot(1,2,1)\n",
        "plt.hist(emp_viz_df['Age'], bins=15, color='green')\n",
        "plt.title('Distribution of Employee Age')\n",
        "plt.xlabel(\"Employee Age\")\n",
        "\n",
        "# Histogram Plot for employee Monthly Income\n",
        "plt.subplot(1,2,2)\n",
        "plt.hist(emp_viz_df['MonthlyIncome'], bins=30, color='red')\n",
        "plt.title('Distribution of Employee Monthly Income')\n",
        "plt.xlabel(\"Employee Monthly Income\")\n",
        "\n",
        "fig.tight_layout();"
      ],
      "execution_count": 28,
      "outputs": [
        {
          "output_type": "display_data",
          "data": {
            "image/png": "[encoded data removed]",
            "text/plain": [
              "<Figure size 1152x288 with 2 Axes>"
            ]
          },
          "metadata": {
            "needs_background": "light"
          }
        }
      ]
    },
    {
      "cell_type": "code",
      "metadata": {
        "colab": {
          "base_uri": "https://localhost:8080/",
          "height": 297
        },
        "id": "j8WqZrlmCWAw",
        "outputId": "1f129b97-cab6-48bb-e05e-43522bd6bee2"
      },
      "source": [
        "fig = plt.figure(figsize=(16,4))\n",
        "\n",
        "# Histogram Plot for Employee Age\n",
        "plt.subplot(1,2,1)\n",
        "plt.hist(np.log1p(emp_viz_df['Age']), bins=20, color='green')\n",
        "plt.title('Distribution of Employee Age')\n",
        "plt.xlabel(\"Log of Employee Age\")\n",
        "\n",
        "# Histogram Plot for employee Monthly Income\n",
        "plt.subplot(1,2,2)\n",
        "plt.hist(np.log1p(emp_viz_df['MonthlyIncome']), bins=15, color='red')\n",
        "plt.title('Distribution of Employee Monthly Income')\n",
        "plt.xlabel(\"Log of Employee Monthly Income\")\n",
        "\n",
        "fig.tight_layout();"
      ],
      "execution_count": 29,
      "outputs": [
        {
          "output_type": "display_data",
          "data": {
            "image/png": "[encoded data removed]",
            "text/plain": [
              "<Figure size 1152x288 with 2 Axes>"
            ]
          },
          "metadata": {
            "needs_background": "light"
          }
        }
      ]
    },
    {
      "cell_type": "code",
      "metadata": {
        "colab": {
          "base_uri": "https://localhost:8080/"
        },
        "id": "m5mER6HxCYZM",
        "outputId": "f7ecd8c8-5ab7-4053-bdcc-9091539d9fce"
      },
      "source": [
        "print('Skewness in employee Age feature: ', emp_viz_df['Age'].skew())\n",
        "print('Skewness in employee Monthly Income feature: ', emp_viz_df['MonthlyIncome'].skew())"
      ],
      "execution_count": 30,
      "outputs": [
        {
          "output_type": "stream",
          "name": "stdout",
          "text": [
            "Skewness in employee Age feature:  0.4132863018563338\n",
            "Skewness in employee Monthly Income feature:  1.3698166808390662\n"
          ]
        }
      ]
    },
    {
      "cell_type": "markdown",
      "metadata": {
        "id": "xQosuui7Cc0E"
      },
      "source": [
        "**Feature Engineering**"
      ]
    },
    {
      "cell_type": "markdown",
      "metadata": {
        "id": "ndbHz_eqCok7"
      },
      "source": [
        "Addition of New Features\n",
        "\n",
        "Creating features based on the available features, which may help us in gaining more insight into the data"
      ]
    },
    {
      "cell_type": "markdown",
      "metadata": {
        "id": "A8fzkbnbCwkc"
      },
      "source": [
        "**Tenure per job**: Usually, people who have worked with many companies but for small periods at every organization tend to leave early as they always need a change of Organization to keep them going.\n",
        "\n",
        "**Years without Change:** For any person, a change either in role or job level or responsibility is needed to keep the work exciting to continue. We create a variable to see how many years it has been for an employee without any sort of change using Promotion, Role and Job Change as a metric to cover different variants of change.\n",
        "\n",
        "**Compensation Ratio:** Compensation Ratio is the ratio of the actual pay of an Employee to the midpoint of a salary range. The salary range can be that of his/her department or organization or role. The benchmark numbers can be a organization’s pay or Industry average.\n",
        "\n"
      ]
    },
    {
      "cell_type": "code",
      "metadata": {
        "colab": {
          "base_uri": "https://localhost:8080/"
        },
        "id": "z_x-sRvPCa--",
        "outputId": "9f26f171-a40d-49c7-dbb3-3a60f2b2b94f"
      },
      "source": [
        "emp_proc_df = emp_data_org.copy() # Copy cleaned dataset for feature engineering\n",
        "\n",
        "emp_proc_df['TenurePerJob'] = 0\n",
        "\n",
        "for i in range(0, len(emp_proc_df)):\n",
        "    if emp_proc_df.loc[i,'NumCompaniesWorked'] > 0:\n",
        "        emp_proc_df.loc[i,'TenurePerJob'] = emp_proc_df.loc[i,'TotalWorkingYears'] / emp_proc_df.loc[i,'NumCompaniesWorked']\n",
        "\n",
        "emp_proc_df['YearWithoutChange1'] = emp_proc_df['YearsInCurrentRole'] - emp_proc_df['YearsSinceLastPromotion']\n",
        "emp_proc_df['YearWithoutChange2'] = emp_proc_df['TotalWorkingYears'] - emp_proc_df['YearsSinceLastPromotion']\n",
        "\n",
        "monthly_income_median = np.median(emp_proc_df['MonthlyIncome'])\n",
        "emp_proc_df['CompRatioOverall'] = emp_proc_df['MonthlyIncome'] / monthly_income_median\n",
        "\n",
        "print('Dataset dimension: {} rows, {} columns'.format(emp_proc_df.shape[0], emp_proc_df.shape[1]))"
      ],
      "execution_count": 31,
      "outputs": [
        {
          "output_type": "stream",
          "name": "stdout",
          "text": [
            "Dataset dimension: 1470 rows, 39 columns\n"
          ]
        }
      ]
    },
    {
      "cell_type": "markdown",
      "metadata": {
        "id": "ROzYqArADMgU"
      },
      "source": [
        "Removing the observations which are not required, as discussed above"
      ]
    },
    {
      "cell_type": "code",
      "metadata": {
        "colab": {
          "base_uri": "https://localhost:8080/"
        },
        "id": "Od1f-vKgDJk1",
        "outputId": "42ed28f5-3034-47ee-eaa6-07149bb69754"
      },
      "source": [
        "# Features to remove based on the initial analysis\n",
        "feat_to_remove = ['EmployeeNumber', 'EmployeeCount', 'Over18', 'StandardHours']\n",
        "\n",
        "emp_proc_df.drop( feat_to_remove , axis = 1, inplace = True )\n",
        "print('Dataset dimension: {} rows, {} columns'.format(emp_proc_df.shape[0], emp_proc_df.shape[1]))"
      ],
      "execution_count": 32,
      "outputs": [
        {
          "output_type": "stream",
          "name": "stdout",
          "text": [
            "Dataset dimension: 1470 rows, 35 columns\n"
          ]
        }
      ]
    },
    {
      "cell_type": "code",
      "metadata": {
        "colab": {
          "base_uri": "https://localhost:8080/"
        },
        "id": "iHVRpfHQDRsn",
        "outputId": "8ae00330-95d8-43df-a840-1834aade77c0"
      },
      "source": [
        "full_col_names = emp_proc_df.columns.tolist()\n",
        "num_col_names = emp_proc_df.select_dtypes(include=[np.int64,np.float64]).columns.tolist() # Get numerical feature names\n",
        "\n",
        "# Preparing list of ordered categorical features\n",
        "num_cat_col_names = ['Education', 'EnvironmentSatisfaction', 'JobInvolvement', 'JobLevel', 'JobSatisfaction',\n",
        "                     'PerformanceRating', 'RelationshipSatisfaction', 'WorkLifeBalance', 'StockOptionLevel']\n",
        "\n",
        "target = ['Attrition']\n",
        "\n",
        "num_col_names = list(set(num_col_names) - set(num_cat_col_names)) # Numerical features w/o Ordered Categorical features\n",
        "cat_col_names = list(set(full_col_names) - set(num_col_names) - set(target)) # Categorical & Ordered Categorical features\n",
        "\n",
        "print('Total number of numerical features: ', len(num_col_names))\n",
        "print('Total number of categorical & ordered categorical features: ', len(cat_col_names))\n",
        "\n",
        "cat_emp_df = emp_proc_df[cat_col_names]\n",
        "num_emp_df = emp_proc_df[num_col_names]"
      ],
      "execution_count": 33,
      "outputs": [
        {
          "output_type": "stream",
          "name": "stdout",
          "text": [
            "Total number of numerical features:  18\n",
            "Total number of categorical & ordered categorical features:  16\n"
          ]
        }
      ]
    },
    {
      "cell_type": "code",
      "metadata": {
        "colab": {
          "base_uri": "https://localhost:8080/",
          "height": 241
        },
        "id": "2_5sh_OwDbVp",
        "outputId": "9eed1822-1758-477b-ca9b-d7e045ce937f"
      },
      "source": [
        "for col in cat_col_names:\n",
        "    col_dummies = pd.get_dummies(cat_emp_df[col], prefix=col)\n",
        "    cat_emp_df = pd.concat([cat_emp_df, col_dummies], axis=1)\n",
        "\n",
        "# Use the pandas apply method to numerically encode our attrition target variable\n",
        "attrition_target = emp_proc_df['Attrition'].map({'Yes':1, 'No':0})\n",
        "\n",
        "# Drop categorical feature for which dummy variables have been created\n",
        "cat_emp_df.drop(cat_col_names, axis=1, inplace=True)\n",
        "\n",
        "cat_emp_df.head()"
      ],
      "execution_count": 34,
      "outputs": [
        {
          "output_type": "execute_result",
          "data": {
            "text/html": [
              "<div>\n",
              "<style scoped>\n",
              "    .dataframe tbody tr th:only-of-type {\n",
              "        vertical-align: middle;\n",
              "    }\n",
              "\n",
              "    .dataframe tbody tr th {\n",
              "        vertical-align: top;\n",
              "    }\n",
              "\n",
              "    .dataframe thead th {\n",
              "        text-align: right;\n",
              "    }\n",
              "</style>\n",
              "<table border=\"1\" class=\"dataframe\">\n",
              "  <thead>\n",
              "    <tr style=\"text-align: right;\">\n",
              "      <th></th>\n",
              "      <th>OverTime_No</th>\n",
              "      <th>OverTime_Yes</th>\n",
              "      <th>PerformanceRating_3</th>\n",
              "      <th>PerformanceRating_4</th>\n",
              "      <th>MaritalStatus_Divorced</th>\n",
              "      <th>MaritalStatus_Married</th>\n",
              "      <th>MaritalStatus_Single</th>\n",
              "      <th>Education_1</th>\n",
              "      <th>Education_2</th>\n",
              "      <th>Education_3</th>\n",
              "      <th>Education_4</th>\n",
              "      <th>Education_5</th>\n",
              "      <th>JobRole_Healthcare Representative</th>\n",
              "      <th>JobRole_Human Resources</th>\n",
              "      <th>JobRole_Laboratory Technician</th>\n",
              "      <th>JobRole_Manager</th>\n",
              "      <th>JobRole_Manufacturing Director</th>\n",
              "      <th>JobRole_Research Director</th>\n",
              "      <th>JobRole_Research Scientist</th>\n",
              "      <th>JobRole_Sales Executive</th>\n",
              "      <th>JobRole_Sales Representative</th>\n",
              "      <th>Gender_Female</th>\n",
              "      <th>Gender_Male</th>\n",
              "      <th>EnvironmentSatisfaction_1</th>\n",
              "      <th>EnvironmentSatisfaction_2</th>\n",
              "      <th>EnvironmentSatisfaction_3</th>\n",
              "      <th>EnvironmentSatisfaction_4</th>\n",
              "      <th>EducationField_Human Resources</th>\n",
              "      <th>EducationField_Life Sciences</th>\n",
              "      <th>EducationField_Marketing</th>\n",
              "      <th>EducationField_Medical</th>\n",
              "      <th>EducationField_Other</th>\n",
              "      <th>EducationField_Technical Degree</th>\n",
              "      <th>WorkLifeBalance_1</th>\n",
              "      <th>WorkLifeBalance_2</th>\n",
              "      <th>WorkLifeBalance_3</th>\n",
              "      <th>WorkLifeBalance_4</th>\n",
              "      <th>StockOptionLevel_0</th>\n",
              "      <th>StockOptionLevel_1</th>\n",
              "      <th>StockOptionLevel_2</th>\n",
              "      <th>StockOptionLevel_3</th>\n",
              "      <th>JobInvolvement_1</th>\n",
              "      <th>JobInvolvement_2</th>\n",
              "      <th>JobInvolvement_3</th>\n",
              "      <th>JobInvolvement_4</th>\n",
              "      <th>Department_Human Resources</th>\n",
              "      <th>Department_Research &amp; Development</th>\n",
              "      <th>Department_Sales</th>\n",
              "      <th>JobLevel_1</th>\n",
              "      <th>JobLevel_2</th>\n",
              "      <th>JobLevel_3</th>\n",
              "      <th>JobLevel_4</th>\n",
              "      <th>JobLevel_5</th>\n",
              "      <th>JobSatisfaction_1</th>\n",
              "      <th>JobSatisfaction_2</th>\n",
              "      <th>JobSatisfaction_3</th>\n",
              "      <th>JobSatisfaction_4</th>\n",
              "      <th>RelationshipSatisfaction_1</th>\n",
              "      <th>RelationshipSatisfaction_2</th>\n",
              "      <th>RelationshipSatisfaction_3</th>\n",
              "      <th>RelationshipSatisfaction_4</th>\n",
              "      <th>BusinessTravel_Non-Travel</th>\n",
              "      <th>BusinessTravel_Travel_Frequently</th>\n",
              "      <th>BusinessTravel_Travel_Rarely</th>\n",
              "    </tr>\n",
              "  </thead>\n",
              "  <tbody>\n",
              "    <tr>\n",
              "      <th>0</th>\n",
              "      <td>0</td>\n",
              "      <td>1</td>\n",
              "      <td>1</td>\n",
              "      <td>0</td>\n",
              "      <td>0</td>\n",
              "      <td>0</td>\n",
              "      <td>1</td>\n",
              "      <td>0</td>\n",
              "      <td>1</td>\n",
              "      <td>0</td>\n",
              "      <td>0</td>\n",
              "      <td>0</td>\n",
              "      <td>0</td>\n",
              "      <td>0</td>\n",
              "      <td>0</td>\n",
              "      <td>0</td>\n",
              "      <td>0</td>\n",
              "      <td>0</td>\n",
              "      <td>0</td>\n",
              "      <td>1</td>\n",
              "      <td>0</td>\n",
              "      <td>1</td>\n",
              "      <td>0</td>\n",
              "      <td>0</td>\n",
              "      <td>1</td>\n",
              "      <td>0</td>\n",
              "      <td>0</td>\n",
              "      <td>0</td>\n",
              "      <td>1</td>\n",
              "      <td>0</td>\n",
              "      <td>0</td>\n",
              "      <td>0</td>\n",
              "      <td>0</td>\n",
              "      <td>1</td>\n",
              "      <td>0</td>\n",
              "      <td>0</td>\n",
              "      <td>0</td>\n",
              "      <td>1</td>\n",
              "      <td>0</td>\n",
              "      <td>0</td>\n",
              "      <td>0</td>\n",
              "      <td>0</td>\n",
              "      <td>0</td>\n",
              "      <td>1</td>\n",
              "      <td>0</td>\n",
              "      <td>0</td>\n",
              "      <td>0</td>\n",
              "      <td>1</td>\n",
              "      <td>0</td>\n",
              "      <td>1</td>\n",
              "      <td>0</td>\n",
              "      <td>0</td>\n",
              "      <td>0</td>\n",
              "      <td>0</td>\n",
              "      <td>0</td>\n",
              "      <td>0</td>\n",
              "      <td>1</td>\n",
              "      <td>1</td>\n",
              "      <td>0</td>\n",
              "      <td>0</td>\n",
              "      <td>0</td>\n",
              "      <td>0</td>\n",
              "      <td>0</td>\n",
              "      <td>1</td>\n",
              "    </tr>\n",
              "    <tr>\n",
              "      <th>1</th>\n",
              "      <td>1</td>\n",
              "      <td>0</td>\n",
              "      <td>0</td>\n",
              "      <td>1</td>\n",
              "      <td>0</td>\n",
              "      <td>1</td>\n",
              "      <td>0</td>\n",
              "      <td>1</td>\n",
              "      <td>0</td>\n",
              "      <td>0</td>\n",
              "      <td>0</td>\n",
              "      <td>0</td>\n",
              "      <td>0</td>\n",
              "      <td>0</td>\n",
              "      <td>0</td>\n",
              "      <td>0</td>\n",
              "      <td>0</td>\n",
              "      <td>0</td>\n",
              "      <td>1</td>\n",
              "      <td>0</td>\n",
              "      <td>0</td>\n",
              "      <td>0</td>\n",
              "      <td>1</td>\n",
              "      <td>0</td>\n",
              "      <td>0</td>\n",
              "      <td>1</td>\n",
              "      <td>0</td>\n",
              "      <td>0</td>\n",
              "      <td>1</td>\n",
              "      <td>0</td>\n",
              "      <td>0</td>\n",
              "      <td>0</td>\n",
              "      <td>0</td>\n",
              "      <td>0</td>\n",
              "      <td>0</td>\n",
              "      <td>1</td>\n",
              "      <td>0</td>\n",
              "      <td>0</td>\n",
              "      <td>1</td>\n",
              "      <td>0</td>\n",
              "      <td>0</td>\n",
              "      <td>0</td>\n",
              "      <td>1</td>\n",
              "      <td>0</td>\n",
              "      <td>0</td>\n",
              "      <td>0</td>\n",
              "      <td>1</td>\n",
              "      <td>0</td>\n",
              "      <td>0</td>\n",
              "      <td>1</td>\n",
              "      <td>0</td>\n",
              "      <td>0</td>\n",
              "      <td>0</td>\n",
              "      <td>0</td>\n",
              "      <td>1</td>\n",
              "      <td>0</td>\n",
              "      <td>0</td>\n",
              "      <td>0</td>\n",
              "      <td>0</td>\n",
              "      <td>0</td>\n",
              "      <td>1</td>\n",
              "      <td>0</td>\n",
              "      <td>1</td>\n",
              "      <td>0</td>\n",
              "    </tr>\n",
              "    <tr>\n",
              "      <th>2</th>\n",
              "      <td>0</td>\n",
              "      <td>1</td>\n",
              "      <td>1</td>\n",
              "      <td>0</td>\n",
              "      <td>0</td>\n",
              "      <td>0</td>\n",
              "      <td>1</td>\n",
              "      <td>0</td>\n",
              "      <td>1</td>\n",
              "      <td>0</td>\n",
              "      <td>0</td>\n",
              "      <td>0</td>\n",
              "      <td>0</td>\n",
              "      <td>0</td>\n",
              "      <td>1</td>\n",
              "      <td>0</td>\n",
              "      <td>0</td>\n",
              "      <td>0</td>\n",
              "      <td>0</td>\n",
              "      <td>0</td>\n",
              "      <td>0</td>\n",
              "      <td>0</td>\n",
              "      <td>1</td>\n",
              "      <td>0</td>\n",
              "      <td>0</td>\n",
              "      <td>0</td>\n",
              "      <td>1</td>\n",
              "      <td>0</td>\n",
              "      <td>0</td>\n",
              "      <td>0</td>\n",
              "      <td>0</td>\n",
              "      <td>1</td>\n",
              "      <td>0</td>\n",
              "      <td>0</td>\n",
              "      <td>0</td>\n",
              "      <td>1</td>\n",
              "      <td>0</td>\n",
              "      <td>1</td>\n",
              "      <td>0</td>\n",
              "      <td>0</td>\n",
              "      <td>0</td>\n",
              "      <td>0</td>\n",
              "      <td>1</td>\n",
              "      <td>0</td>\n",
              "      <td>0</td>\n",
              "      <td>0</td>\n",
              "      <td>1</td>\n",
              "      <td>0</td>\n",
              "      <td>1</td>\n",
              "      <td>0</td>\n",
              "      <td>0</td>\n",
              "      <td>0</td>\n",
              "      <td>0</td>\n",
              "      <td>0</td>\n",
              "      <td>0</td>\n",
              "      <td>1</td>\n",
              "      <td>0</td>\n",
              "      <td>0</td>\n",
              "      <td>1</td>\n",
              "      <td>0</td>\n",
              "      <td>0</td>\n",
              "      <td>0</td>\n",
              "      <td>0</td>\n",
              "      <td>1</td>\n",
              "    </tr>\n",
              "    <tr>\n",
              "      <th>3</th>\n",
              "      <td>0</td>\n",
              "      <td>1</td>\n",
              "      <td>1</td>\n",
              "      <td>0</td>\n",
              "      <td>0</td>\n",
              "      <td>1</td>\n",
              "      <td>0</td>\n",
              "      <td>0</td>\n",
              "      <td>0</td>\n",
              "      <td>0</td>\n",
              "      <td>1</td>\n",
              "      <td>0</td>\n",
              "      <td>0</td>\n",
              "      <td>0</td>\n",
              "      <td>0</td>\n",
              "      <td>0</td>\n",
              "      <td>0</td>\n",
              "      <td>0</td>\n",
              "      <td>1</td>\n",
              "      <td>0</td>\n",
              "      <td>0</td>\n",
              "      <td>1</td>\n",
              "      <td>0</td>\n",
              "      <td>0</td>\n",
              "      <td>0</td>\n",
              "      <td>0</td>\n",
              "      <td>1</td>\n",
              "      <td>0</td>\n",
              "      <td>1</td>\n",
              "      <td>0</td>\n",
              "      <td>0</td>\n",
              "      <td>0</td>\n",
              "      <td>0</td>\n",
              "      <td>0</td>\n",
              "      <td>0</td>\n",
              "      <td>1</td>\n",
              "      <td>0</td>\n",
              "      <td>1</td>\n",
              "      <td>0</td>\n",
              "      <td>0</td>\n",
              "      <td>0</td>\n",
              "      <td>0</td>\n",
              "      <td>0</td>\n",
              "      <td>1</td>\n",
              "      <td>0</td>\n",
              "      <td>0</td>\n",
              "      <td>1</td>\n",
              "      <td>0</td>\n",
              "      <td>1</td>\n",
              "      <td>0</td>\n",
              "      <td>0</td>\n",
              "      <td>0</td>\n",
              "      <td>0</td>\n",
              "      <td>0</td>\n",
              "      <td>0</td>\n",
              "      <td>1</td>\n",
              "      <td>0</td>\n",
              "      <td>0</td>\n",
              "      <td>0</td>\n",
              "      <td>1</td>\n",
              "      <td>0</td>\n",
              "      <td>0</td>\n",
              "      <td>1</td>\n",
              "      <td>0</td>\n",
              "    </tr>\n",
              "    <tr>\n",
              "      <th>4</th>\n",
              "      <td>1</td>\n",
              "      <td>0</td>\n",
              "      <td>1</td>\n",
              "      <td>0</td>\n",
              "      <td>0</td>\n",
              "      <td>1</td>\n",
              "      <td>0</td>\n",
              "      <td>1</td>\n",
              "      <td>0</td>\n",
              "      <td>0</td>\n",
              "      <td>0</td>\n",
              "      <td>0</td>\n",
              "      <td>0</td>\n",
              "      <td>0</td>\n",
              "      <td>1</td>\n",
              "      <td>0</td>\n",
              "      <td>0</td>\n",
              "      <td>0</td>\n",
              "      <td>0</td>\n",
              "      <td>0</td>\n",
              "      <td>0</td>\n",
              "      <td>0</td>\n",
              "      <td>1</td>\n",
              "      <td>1</td>\n",
              "      <td>0</td>\n",
              "      <td>0</td>\n",
              "      <td>0</td>\n",
              "      <td>0</td>\n",
              "      <td>0</td>\n",
              "      <td>0</td>\n",
              "      <td>1</td>\n",
              "      <td>0</td>\n",
              "      <td>0</td>\n",
              "      <td>0</td>\n",
              "      <td>0</td>\n",
              "      <td>1</td>\n",
              "      <td>0</td>\n",
              "      <td>0</td>\n",
              "      <td>1</td>\n",
              "      <td>0</td>\n",
              "      <td>0</td>\n",
              "      <td>0</td>\n",
              "      <td>0</td>\n",
              "      <td>1</td>\n",
              "      <td>0</td>\n",
              "      <td>0</td>\n",
              "      <td>1</td>\n",
              "      <td>0</td>\n",
              "      <td>1</td>\n",
              "      <td>0</td>\n",
              "      <td>0</td>\n",
              "      <td>0</td>\n",
              "      <td>0</td>\n",
              "      <td>0</td>\n",
              "      <td>1</td>\n",
              "      <td>0</td>\n",
              "      <td>0</td>\n",
              "      <td>0</td>\n",
              "      <td>0</td>\n",
              "      <td>0</td>\n",
              "      <td>1</td>\n",
              "      <td>0</td>\n",
              "      <td>0</td>\n",
              "      <td>1</td>\n",
              "    </tr>\n",
              "  </tbody>\n",
              "</table>\n",
              "</div>"
            ],
            "text/plain": [
              "   OverTime_No  OverTime_Yes  PerformanceRating_3  PerformanceRating_4  \\\n",
              "0            0             1                    1                    0   \n",
              "1            1             0                    0                    1   \n",
              "2            0             1                    1                    0   \n",
              "3            0             1                    1                    0   \n",
              "4            1             0                    1                    0   \n",
              "\n",
              "   MaritalStatus_Divorced  MaritalStatus_Married  MaritalStatus_Single  \\\n",
              "0                       0                      0                     1   \n",
              "1                       0                      1                     0   \n",
              "2                       0                      0                     1   \n",
              "3                       0                      1                     0   \n",
              "4                       0                      1                     0   \n",
              "\n",
              "   Education_1  Education_2  Education_3  Education_4  Education_5  \\\n",
              "0            0            1            0            0            0   \n",
              "1            1            0            0            0            0   \n",
              "2            0            1            0            0            0   \n",
              "3            0            0            0            1            0   \n",
              "4            1            0            0            0            0   \n",
              "\n",
              "   JobRole_Healthcare Representative  JobRole_Human Resources  \\\n",
              "0                                  0                        0   \n",
              "1                                  0                        0   \n",
              "2                                  0                        0   \n",
              "3                                  0                        0   \n",
              "4                                  0                        0   \n",
              "\n",
              "   JobRole_Laboratory Technician  JobRole_Manager  \\\n",
              "0                              0                0   \n",
              "1                              0                0   \n",
              "2                              1                0   \n",
              "3                              0                0   \n",
              "4                              1                0   \n",
              "\n",
              "   JobRole_Manufacturing Director  JobRole_Research Director  \\\n",
              "0                               0                          0   \n",
              "1                               0                          0   \n",
              "2                               0                          0   \n",
              "3                               0                          0   \n",
              "4                               0                          0   \n",
              "\n",
              "   JobRole_Research Scientist  JobRole_Sales Executive  \\\n",
              "0                           0                        1   \n",
              "1                           1                        0   \n",
              "2                           0                        0   \n",
              "3                           1                        0   \n",
              "4                           0                        0   \n",
              "\n",
              "   JobRole_Sales Representative  Gender_Female  Gender_Male  \\\n",
              "0                             0              1            0   \n",
              "1                             0              0            1   \n",
              "2                             0              0            1   \n",
              "3                             0              1            0   \n",
              "4                             0              0            1   \n",
              "\n",
              "   EnvironmentSatisfaction_1  EnvironmentSatisfaction_2  \\\n",
              "0                          0                          1   \n",
              "1                          0                          0   \n",
              "2                          0                          0   \n",
              "3                          0                          0   \n",
              "4                          1                          0   \n",
              "\n",
              "   EnvironmentSatisfaction_3  EnvironmentSatisfaction_4  \\\n",
              "0                          0                          0   \n",
              "1                          1                          0   \n",
              "2                          0                          1   \n",
              "3                          0                          1   \n",
              "4                          0                          0   \n",
              "\n",
              "   EducationField_Human Resources  EducationField_Life Sciences  \\\n",
              "0                               0                             1   \n",
              "1                               0                             1   \n",
              "2                               0                             0   \n",
              "3                               0                             1   \n",
              "4                               0                             0   \n",
              "\n",
              "   EducationField_Marketing  EducationField_Medical  EducationField_Other  \\\n",
              "0                         0                       0                     0   \n",
              "1                         0                       0                     0   \n",
              "2                         0                       0                     1   \n",
              "3                         0                       0                     0   \n",
              "4                         0                       1                     0   \n",
              "\n",
              "   EducationField_Technical Degree  WorkLifeBalance_1  WorkLifeBalance_2  \\\n",
              "0                                0                  1                  0   \n",
              "1                                0                  0                  0   \n",
              "2                                0                  0                  0   \n",
              "3                                0                  0                  0   \n",
              "4                                0                  0                  0   \n",
              "\n",
              "   WorkLifeBalance_3  WorkLifeBalance_4  StockOptionLevel_0  \\\n",
              "0                  0                  0                   1   \n",
              "1                  1                  0                   0   \n",
              "2                  1                  0                   1   \n",
              "3                  1                  0                   1   \n",
              "4                  1                  0                   0   \n",
              "\n",
              "   StockOptionLevel_1  StockOptionLevel_2  StockOptionLevel_3  \\\n",
              "0                   0                   0                   0   \n",
              "1                   1                   0                   0   \n",
              "2                   0                   0                   0   \n",
              "3                   0                   0                   0   \n",
              "4                   1                   0                   0   \n",
              "\n",
              "   JobInvolvement_1  JobInvolvement_2  JobInvolvement_3  JobInvolvement_4  \\\n",
              "0                 0                 0                 1                 0   \n",
              "1                 0                 1                 0                 0   \n",
              "2                 0                 1                 0                 0   \n",
              "3                 0                 0                 1                 0   \n",
              "4                 0                 0                 1                 0   \n",
              "\n",
              "   Department_Human Resources  Department_Research & Development  \\\n",
              "0                           0                                  0   \n",
              "1                           0                                  1   \n",
              "2                           0                                  1   \n",
              "3                           0                                  1   \n",
              "4                           0                                  1   \n",
              "\n",
              "   Department_Sales  JobLevel_1  JobLevel_2  JobLevel_3  JobLevel_4  \\\n",
              "0                 1           0           1           0           0   \n",
              "1                 0           0           1           0           0   \n",
              "2                 0           1           0           0           0   \n",
              "3                 0           1           0           0           0   \n",
              "4                 0           1           0           0           0   \n",
              "\n",
              "   JobLevel_5  JobSatisfaction_1  JobSatisfaction_2  JobSatisfaction_3  \\\n",
              "0           0                  0                  0                  0   \n",
              "1           0                  0                  1                  0   \n",
              "2           0                  0                  0                  1   \n",
              "3           0                  0                  0                  1   \n",
              "4           0                  0                  1                  0   \n",
              "\n",
              "   JobSatisfaction_4  RelationshipSatisfaction_1  RelationshipSatisfaction_2  \\\n",
              "0                  1                           1                           0   \n",
              "1                  0                           0                           0   \n",
              "2                  0                           0                           1   \n",
              "3                  0                           0                           0   \n",
              "4                  0                           0                           0   \n",
              "\n",
              "   RelationshipSatisfaction_3  RelationshipSatisfaction_4  \\\n",
              "0                           0                           0   \n",
              "1                           0                           1   \n",
              "2                           0                           0   \n",
              "3                           1                           0   \n",
              "4                           0                           1   \n",
              "\n",
              "   BusinessTravel_Non-Travel  BusinessTravel_Travel_Frequently  \\\n",
              "0                          0                                 0   \n",
              "1                          0                                 1   \n",
              "2                          0                                 0   \n",
              "3                          0                                 1   \n",
              "4                          0                                 0   \n",
              "\n",
              "   BusinessTravel_Travel_Rarely  \n",
              "0                             1  \n",
              "1                             0  \n",
              "2                             1  \n",
              "3                             0  \n",
              "4                             1  "
            ]
          },
          "metadata": {},
          "execution_count": 34
        }
      ]
    },
    {
      "cell_type": "markdown",
      "metadata": {
        "id": "Yvlz_0ZwDyl0"
      },
      "source": [
        "Correlation of numerical features against attrition"
      ]
    },
    {
      "cell_type": "code",
      "metadata": {
        "colab": {
          "base_uri": "https://localhost:8080/",
          "height": 604
        },
        "id": "CqJ4FcixDwZ-",
        "outputId": "85fdcffb-5ba0-4a1e-e7a8-cecd34d84964"
      },
      "source": [
        "num_corr_df = num_emp_df[['MonthlyIncome', 'CompRatioOverall', 'YearWithoutChange1', 'DistanceFromHome']]\n",
        "corr_df = pd.concat([num_corr_df, attrition_target], axis=1)\n",
        "corr = corr_df.corr()\n",
        "\n",
        "plt.figure(figsize = (10, 8))\n",
        "mask = np.zeros_like(corr)\n",
        "mask[np.triu_indices_from(mask)] = True\n",
        "sns.axes_style(\"white\")\n",
        "#sns.heatmap(data=corr, annot=True, mask=mask, square=True, linewidths=.5, vmin=-1, vmax=1, cmap=\"YlGnBu\")\n",
        "sns.heatmap(data=corr, annot=True, square=True, linewidths=.5, vmin=-1, vmax=1, cmap=\"YlGnBu\")\n",
        "plt.show()"
      ],
      "execution_count": 35,
      "outputs": [
        {
          "output_type": "display_data",
          "data": {
            "image/png": "[encoded data removed]",
            "text/plain": [
              "<Figure size 720x576 with 2 Axes>"
            ]
          },
          "metadata": {
            "needs_background": "light"
          }
        }
      ]
    },
    {
      "cell_type": "code",
      "metadata": {
        "colab": {
          "base_uri": "https://localhost:8080/",
          "height": 626
        },
        "id": "jdowamY4D4Y7",
        "outputId": "6c9586b0-4b81-4d0d-910f-606520d22142"
      },
      "source": [
        "from pandas.plotting import scatter_matrix\n",
        "\n",
        "scatter_matrix(corr_df, figsize=(16, 10));"
      ],
      "execution_count": 36,
      "outputs": [
        {
          "output_type": "display_data",
          "data": {
            "image/png": "[encoded data removed]",
            "text/plain": [
              "<Figure size 1152x720 with 25 Axes>"
            ]
          },
          "metadata": {
            "needs_background": "light"
          }
        }
      ]
    },
    {
      "cell_type": "code",
      "metadata": {
        "colab": {
          "base_uri": "https://localhost:8080/",
          "height": 258
        },
        "id": "W4_glIVlD7NC",
        "outputId": "e72b6f2c-19cb-4886-f420-36a9ab745b2e"
      },
      "source": [
        "#Concatenating two datasets columnwise\n",
        "final_emp_df = pd.concat([num_emp_df, cat_emp_df], axis=1)\n",
        "\n",
        "print('Dataset dimension after treating categorical features with dummy variables: {} rows, {} columns'.format(final_emp_df.shape[0], final_emp_df.shape[1]))\n",
        "final_emp_df.head()"
      ],
      "execution_count": 37,
      "outputs": [
        {
          "output_type": "stream",
          "name": "stdout",
          "text": [
            "Dataset dimension after treating categorical features with dummy variables: 1470 rows, 82 columns\n"
          ]
        },
        {
          "output_type": "execute_result",
          "data": {
            "text/html": [
              "<div>\n",
              "<style scoped>\n",
              "    .dataframe tbody tr th:only-of-type {\n",
              "        vertical-align: middle;\n",
              "    }\n",
              "\n",
              "    .dataframe tbody tr th {\n",
              "        vertical-align: top;\n",
              "    }\n",
              "\n",
              "    .dataframe thead th {\n",
              "        text-align: right;\n",
              "    }\n",
              "</style>\n",
              "<table border=\"1\" class=\"dataframe\">\n",
              "  <thead>\n",
              "    <tr style=\"text-align: right;\">\n",
              "      <th></th>\n",
              "      <th>DistanceFromHome</th>\n",
              "      <th>YearsWithCurrManager</th>\n",
              "      <th>YearsAtCompany</th>\n",
              "      <th>YearWithoutChange2</th>\n",
              "      <th>YearsInCurrentRole</th>\n",
              "      <th>YearWithoutChange1</th>\n",
              "      <th>MonthlyRate</th>\n",
              "      <th>TrainingTimesLastYear</th>\n",
              "      <th>PercentSalaryHike</th>\n",
              "      <th>CompRatioOverall</th>\n",
              "      <th>NumCompaniesWorked</th>\n",
              "      <th>MonthlyIncome</th>\n",
              "      <th>TenurePerJob</th>\n",
              "      <th>TotalWorkingYears</th>\n",
              "      <th>HourlyRate</th>\n",
              "      <th>YearsSinceLastPromotion</th>\n",
              "      <th>DailyRate</th>\n",
              "      <th>Age</th>\n",
              "      <th>OverTime_No</th>\n",
              "      <th>OverTime_Yes</th>\n",
              "      <th>PerformanceRating_3</th>\n",
              "      <th>PerformanceRating_4</th>\n",
              "      <th>MaritalStatus_Divorced</th>\n",
              "      <th>MaritalStatus_Married</th>\n",
              "      <th>MaritalStatus_Single</th>\n",
              "      <th>Education_1</th>\n",
              "      <th>Education_2</th>\n",
              "      <th>Education_3</th>\n",
              "      <th>Education_4</th>\n",
              "      <th>Education_5</th>\n",
              "      <th>JobRole_Healthcare Representative</th>\n",
              "      <th>JobRole_Human Resources</th>\n",
              "      <th>JobRole_Laboratory Technician</th>\n",
              "      <th>JobRole_Manager</th>\n",
              "      <th>JobRole_Manufacturing Director</th>\n",
              "      <th>JobRole_Research Director</th>\n",
              "      <th>JobRole_Research Scientist</th>\n",
              "      <th>JobRole_Sales Executive</th>\n",
              "      <th>JobRole_Sales Representative</th>\n",
              "      <th>Gender_Female</th>\n",
              "      <th>Gender_Male</th>\n",
              "      <th>EnvironmentSatisfaction_1</th>\n",
              "      <th>EnvironmentSatisfaction_2</th>\n",
              "      <th>EnvironmentSatisfaction_3</th>\n",
              "      <th>EnvironmentSatisfaction_4</th>\n",
              "      <th>EducationField_Human Resources</th>\n",
              "      <th>EducationField_Life Sciences</th>\n",
              "      <th>EducationField_Marketing</th>\n",
              "      <th>EducationField_Medical</th>\n",
              "      <th>EducationField_Other</th>\n",
              "      <th>EducationField_Technical Degree</th>\n",
              "      <th>WorkLifeBalance_1</th>\n",
              "      <th>WorkLifeBalance_2</th>\n",
              "      <th>WorkLifeBalance_3</th>\n",
              "      <th>WorkLifeBalance_4</th>\n",
              "      <th>StockOptionLevel_0</th>\n",
              "      <th>StockOptionLevel_1</th>\n",
              "      <th>StockOptionLevel_2</th>\n",
              "      <th>StockOptionLevel_3</th>\n",
              "      <th>JobInvolvement_1</th>\n",
              "      <th>JobInvolvement_2</th>\n",
              "      <th>JobInvolvement_3</th>\n",
              "      <th>JobInvolvement_4</th>\n",
              "      <th>Department_Human Resources</th>\n",
              "      <th>Department_Research &amp; Development</th>\n",
              "      <th>Department_Sales</th>\n",
              "      <th>JobLevel_1</th>\n",
              "      <th>JobLevel_2</th>\n",
              "      <th>JobLevel_3</th>\n",
              "      <th>JobLevel_4</th>\n",
              "      <th>JobLevel_5</th>\n",
              "      <th>JobSatisfaction_1</th>\n",
              "      <th>JobSatisfaction_2</th>\n",
              "      <th>JobSatisfaction_3</th>\n",
              "      <th>JobSatisfaction_4</th>\n",
              "      <th>RelationshipSatisfaction_1</th>\n",
              "      <th>RelationshipSatisfaction_2</th>\n",
              "      <th>RelationshipSatisfaction_3</th>\n",
              "      <th>RelationshipSatisfaction_4</th>\n",
              "      <th>BusinessTravel_Non-Travel</th>\n",
              "      <th>BusinessTravel_Travel_Frequently</th>\n",
              "      <th>BusinessTravel_Travel_Rarely</th>\n",
              "    </tr>\n",
              "  </thead>\n",
              "  <tbody>\n",
              "    <tr>\n",
              "      <th>0</th>\n",
              "      <td>1</td>\n",
              "      <td>5</td>\n",
              "      <td>6</td>\n",
              "      <td>8</td>\n",
              "      <td>4</td>\n",
              "      <td>4</td>\n",
              "      <td>19479</td>\n",
              "      <td>0</td>\n",
              "      <td>11</td>\n",
              "      <td>1.218337</td>\n",
              "      <td>8</td>\n",
              "      <td>5993</td>\n",
              "      <td>1.000000</td>\n",
              "      <td>8</td>\n",
              "      <td>94</td>\n",
              "      <td>0</td>\n",
              "      <td>1102</td>\n",
              "      <td>41</td>\n",
              "      <td>0</td>\n",
              "      <td>1</td>\n",
              "      <td>1</td>\n",
              "      <td>0</td>\n",
              "      <td>0</td>\n",
              "      <td>0</td>\n",
              "      <td>1</td>\n",
              "      <td>0</td>\n",
              "      <td>1</td>\n",
              "      <td>0</td>\n",
              "      <td>0</td>\n",
              "      <td>0</td>\n",
              "      <td>0</td>\n",
              "      <td>0</td>\n",
              "      <td>0</td>\n",
              "      <td>0</td>\n",
              "      <td>0</td>\n",
              "      <td>0</td>\n",
              "      <td>0</td>\n",
              "      <td>1</td>\n",
              "      <td>0</td>\n",
              "      <td>1</td>\n",
              "      <td>0</td>\n",
              "      <td>0</td>\n",
              "      <td>1</td>\n",
              "      <td>0</td>\n",
              "      <td>0</td>\n",
              "      <td>0</td>\n",
              "      <td>1</td>\n",
              "      <td>0</td>\n",
              "      <td>0</td>\n",
              "      <td>0</td>\n",
              "      <td>0</td>\n",
              "      <td>1</td>\n",
              "      <td>0</td>\n",
              "      <td>0</td>\n",
              "      <td>0</td>\n",
              "      <td>1</td>\n",
              "      <td>0</td>\n",
              "      <td>0</td>\n",
              "      <td>0</td>\n",
              "      <td>0</td>\n",
              "      <td>0</td>\n",
              "      <td>1</td>\n",
              "      <td>0</td>\n",
              "      <td>0</td>\n",
              "      <td>0</td>\n",
              "      <td>1</td>\n",
              "      <td>0</td>\n",
              "      <td>1</td>\n",
              "      <td>0</td>\n",
              "      <td>0</td>\n",
              "      <td>0</td>\n",
              "      <td>0</td>\n",
              "      <td>0</td>\n",
              "      <td>0</td>\n",
              "      <td>1</td>\n",
              "      <td>1</td>\n",
              "      <td>0</td>\n",
              "      <td>0</td>\n",
              "      <td>0</td>\n",
              "      <td>0</td>\n",
              "      <td>0</td>\n",
              "      <td>1</td>\n",
              "    </tr>\n",
              "    <tr>\n",
              "      <th>1</th>\n",
              "      <td>8</td>\n",
              "      <td>7</td>\n",
              "      <td>10</td>\n",
              "      <td>9</td>\n",
              "      <td>7</td>\n",
              "      <td>6</td>\n",
              "      <td>24907</td>\n",
              "      <td>3</td>\n",
              "      <td>23</td>\n",
              "      <td>1.042895</td>\n",
              "      <td>1</td>\n",
              "      <td>5130</td>\n",
              "      <td>10.000000</td>\n",
              "      <td>10</td>\n",
              "      <td>61</td>\n",
              "      <td>1</td>\n",
              "      <td>279</td>\n",
              "      <td>49</td>\n",
              "      <td>1</td>\n",
              "      <td>0</td>\n",
              "      <td>0</td>\n",
              "      <td>1</td>\n",
              "      <td>0</td>\n",
              "      <td>1</td>\n",
              "      <td>0</td>\n",
              "      <td>1</td>\n",
              "      <td>0</td>\n",
              "      <td>0</td>\n",
              "      <td>0</td>\n",
              "      <td>0</td>\n",
              "      <td>0</td>\n",
              "      <td>0</td>\n",
              "      <td>0</td>\n",
              "      <td>0</td>\n",
              "      <td>0</td>\n",
              "      <td>0</td>\n",
              "      <td>1</td>\n",
              "      <td>0</td>\n",
              "      <td>0</td>\n",
              "      <td>0</td>\n",
              "      <td>1</td>\n",
              "      <td>0</td>\n",
              "      <td>0</td>\n",
              "      <td>1</td>\n",
              "      <td>0</td>\n",
              "      <td>0</td>\n",
              "      <td>1</td>\n",
              "      <td>0</td>\n",
              "      <td>0</td>\n",
              "      <td>0</td>\n",
              "      <td>0</td>\n",
              "      <td>0</td>\n",
              "      <td>0</td>\n",
              "      <td>1</td>\n",
              "      <td>0</td>\n",
              "      <td>0</td>\n",
              "      <td>1</td>\n",
              "      <td>0</td>\n",
              "      <td>0</td>\n",
              "      <td>0</td>\n",
              "      <td>1</td>\n",
              "      <td>0</td>\n",
              "      <td>0</td>\n",
              "      <td>0</td>\n",
              "      <td>1</td>\n",
              "      <td>0</td>\n",
              "      <td>0</td>\n",
              "      <td>1</td>\n",
              "      <td>0</td>\n",
              "      <td>0</td>\n",
              "      <td>0</td>\n",
              "      <td>0</td>\n",
              "      <td>1</td>\n",
              "      <td>0</td>\n",
              "      <td>0</td>\n",
              "      <td>0</td>\n",
              "      <td>0</td>\n",
              "      <td>0</td>\n",
              "      <td>1</td>\n",
              "      <td>0</td>\n",
              "      <td>1</td>\n",
              "      <td>0</td>\n",
              "    </tr>\n",
              "    <tr>\n",
              "      <th>2</th>\n",
              "      <td>2</td>\n",
              "      <td>0</td>\n",
              "      <td>0</td>\n",
              "      <td>7</td>\n",
              "      <td>0</td>\n",
              "      <td>0</td>\n",
              "      <td>2396</td>\n",
              "      <td>3</td>\n",
              "      <td>15</td>\n",
              "      <td>0.424883</td>\n",
              "      <td>6</td>\n",
              "      <td>2090</td>\n",
              "      <td>1.166667</td>\n",
              "      <td>7</td>\n",
              "      <td>92</td>\n",
              "      <td>0</td>\n",
              "      <td>1373</td>\n",
              "      <td>37</td>\n",
              "      <td>0</td>\n",
              "      <td>1</td>\n",
              "      <td>1</td>\n",
              "      <td>0</td>\n",
              "      <td>0</td>\n",
              "      <td>0</td>\n",
              "      <td>1</td>\n",
              "      <td>0</td>\n",
              "      <td>1</td>\n",
              "      <td>0</td>\n",
              "      <td>0</td>\n",
              "      <td>0</td>\n",
              "      <td>0</td>\n",
              "      <td>0</td>\n",
              "      <td>1</td>\n",
              "      <td>0</td>\n",
              "      <td>0</td>\n",
              "      <td>0</td>\n",
              "      <td>0</td>\n",
              "      <td>0</td>\n",
              "      <td>0</td>\n",
              "      <td>0</td>\n",
              "      <td>1</td>\n",
              "      <td>0</td>\n",
              "      <td>0</td>\n",
              "      <td>0</td>\n",
              "      <td>1</td>\n",
              "      <td>0</td>\n",
              "      <td>0</td>\n",
              "      <td>0</td>\n",
              "      <td>0</td>\n",
              "      <td>1</td>\n",
              "      <td>0</td>\n",
              "      <td>0</td>\n",
              "      <td>0</td>\n",
              "      <td>1</td>\n",
              "      <td>0</td>\n",
              "      <td>1</td>\n",
              "      <td>0</td>\n",
              "      <td>0</td>\n",
              "      <td>0</td>\n",
              "      <td>0</td>\n",
              "      <td>1</td>\n",
              "      <td>0</td>\n",
              "      <td>0</td>\n",
              "      <td>0</td>\n",
              "      <td>1</td>\n",
              "      <td>0</td>\n",
              "      <td>1</td>\n",
              "      <td>0</td>\n",
              "      <td>0</td>\n",
              "      <td>0</td>\n",
              "      <td>0</td>\n",
              "      <td>0</td>\n",
              "      <td>0</td>\n",
              "      <td>1</td>\n",
              "      <td>0</td>\n",
              "      <td>0</td>\n",
              "      <td>1</td>\n",
              "      <td>0</td>\n",
              "      <td>0</td>\n",
              "      <td>0</td>\n",
              "      <td>0</td>\n",
              "      <td>1</td>\n",
              "    </tr>\n",
              "    <tr>\n",
              "      <th>3</th>\n",
              "      <td>3</td>\n",
              "      <td>0</td>\n",
              "      <td>8</td>\n",
              "      <td>5</td>\n",
              "      <td>7</td>\n",
              "      <td>4</td>\n",
              "      <td>23159</td>\n",
              "      <td>3</td>\n",
              "      <td>11</td>\n",
              "      <td>0.591380</td>\n",
              "      <td>1</td>\n",
              "      <td>2909</td>\n",
              "      <td>8.000000</td>\n",
              "      <td>8</td>\n",
              "      <td>56</td>\n",
              "      <td>3</td>\n",
              "      <td>1392</td>\n",
              "      <td>33</td>\n",
              "      <td>0</td>\n",
              "      <td>1</td>\n",
              "      <td>1</td>\n",
              "      <td>0</td>\n",
              "      <td>0</td>\n",
              "      <td>1</td>\n",
              "      <td>0</td>\n",
              "      <td>0</td>\n",
              "      <td>0</td>\n",
              "      <td>0</td>\n",
              "      <td>1</td>\n",
              "      <td>0</td>\n",
              "      <td>0</td>\n",
              "      <td>0</td>\n",
              "      <td>0</td>\n",
              "      <td>0</td>\n",
              "      <td>0</td>\n",
              "      <td>0</td>\n",
              "      <td>1</td>\n",
              "      <td>0</td>\n",
              "      <td>0</td>\n",
              "      <td>1</td>\n",
              "      <td>0</td>\n",
              "      <td>0</td>\n",
              "      <td>0</td>\n",
              "      <td>0</td>\n",
              "      <td>1</td>\n",
              "      <td>0</td>\n",
              "      <td>1</td>\n",
              "      <td>0</td>\n",
              "      <td>0</td>\n",
              "      <td>0</td>\n",
              "      <td>0</td>\n",
              "      <td>0</td>\n",
              "      <td>0</td>\n",
              "      <td>1</td>\n",
              "      <td>0</td>\n",
              "      <td>1</td>\n",
              "      <td>0</td>\n",
              "      <td>0</td>\n",
              "      <td>0</td>\n",
              "      <td>0</td>\n",
              "      <td>0</td>\n",
              "      <td>1</td>\n",
              "      <td>0</td>\n",
              "      <td>0</td>\n",
              "      <td>1</td>\n",
              "      <td>0</td>\n",
              "      <td>1</td>\n",
              "      <td>0</td>\n",
              "      <td>0</td>\n",
              "      <td>0</td>\n",
              "      <td>0</td>\n",
              "      <td>0</td>\n",
              "      <td>0</td>\n",
              "      <td>1</td>\n",
              "      <td>0</td>\n",
              "      <td>0</td>\n",
              "      <td>0</td>\n",
              "      <td>1</td>\n",
              "      <td>0</td>\n",
              "      <td>0</td>\n",
              "      <td>1</td>\n",
              "      <td>0</td>\n",
              "    </tr>\n",
              "    <tr>\n",
              "      <th>4</th>\n",
              "      <td>2</td>\n",
              "      <td>2</td>\n",
              "      <td>2</td>\n",
              "      <td>4</td>\n",
              "      <td>2</td>\n",
              "      <td>0</td>\n",
              "      <td>16632</td>\n",
              "      <td>3</td>\n",
              "      <td>12</td>\n",
              "      <td>0.705021</td>\n",
              "      <td>9</td>\n",
              "      <td>3468</td>\n",
              "      <td>0.666667</td>\n",
              "      <td>6</td>\n",
              "      <td>40</td>\n",
              "      <td>2</td>\n",
              "      <td>591</td>\n",
              "      <td>27</td>\n",
              "      <td>1</td>\n",
              "      <td>0</td>\n",
              "      <td>1</td>\n",
              "      <td>0</td>\n",
              "      <td>0</td>\n",
              "      <td>1</td>\n",
              "      <td>0</td>\n",
              "      <td>1</td>\n",
              "      <td>0</td>\n",
              "      <td>0</td>\n",
              "      <td>0</td>\n",
              "      <td>0</td>\n",
              "      <td>0</td>\n",
              "      <td>0</td>\n",
              "      <td>1</td>\n",
              "      <td>0</td>\n",
              "      <td>0</td>\n",
              "      <td>0</td>\n",
              "      <td>0</td>\n",
              "      <td>0</td>\n",
              "      <td>0</td>\n",
              "      <td>0</td>\n",
              "      <td>1</td>\n",
              "      <td>1</td>\n",
              "      <td>0</td>\n",
              "      <td>0</td>\n",
              "      <td>0</td>\n",
              "      <td>0</td>\n",
              "      <td>0</td>\n",
              "      <td>0</td>\n",
              "      <td>1</td>\n",
              "      <td>0</td>\n",
              "      <td>0</td>\n",
              "      <td>0</td>\n",
              "      <td>0</td>\n",
              "      <td>1</td>\n",
              "      <td>0</td>\n",
              "      <td>0</td>\n",
              "      <td>1</td>\n",
              "      <td>0</td>\n",
              "      <td>0</td>\n",
              "      <td>0</td>\n",
              "      <td>0</td>\n",
              "      <td>1</td>\n",
              "      <td>0</td>\n",
              "      <td>0</td>\n",
              "      <td>1</td>\n",
              "      <td>0</td>\n",
              "      <td>1</td>\n",
              "      <td>0</td>\n",
              "      <td>0</td>\n",
              "      <td>0</td>\n",
              "      <td>0</td>\n",
              "      <td>0</td>\n",
              "      <td>1</td>\n",
              "      <td>0</td>\n",
              "      <td>0</td>\n",
              "      <td>0</td>\n",
              "      <td>0</td>\n",
              "      <td>0</td>\n",
              "      <td>1</td>\n",
              "      <td>0</td>\n",
              "      <td>0</td>\n",
              "      <td>1</td>\n",
              "    </tr>\n",
              "  </tbody>\n",
              "</table>\n",
              "</div>"
            ],
            "text/plain": [
              "   DistanceFromHome  YearsWithCurrManager  YearsAtCompany  YearWithoutChange2  \\\n",
              "0                 1                     5               6                   8   \n",
              "1                 8                     7              10                   9   \n",
              "2                 2                     0               0                   7   \n",
              "3                 3                     0               8                   5   \n",
              "4                 2                     2               2                   4   \n",
              "\n",
              "   YearsInCurrentRole  YearWithoutChange1  MonthlyRate  TrainingTimesLastYear  \\\n",
              "0                   4                   4        19479                      0   \n",
              "1                   7                   6        24907                      3   \n",
              "2                   0                   0         2396                      3   \n",
              "3                   7                   4        23159                      3   \n",
              "4                   2                   0        16632                      3   \n",
              "\n",
              "   PercentSalaryHike  CompRatioOverall  NumCompaniesWorked  MonthlyIncome  \\\n",
              "0                 11          1.218337                   8           5993   \n",
              "1                 23          1.042895                   1           5130   \n",
              "2                 15          0.424883                   6           2090   \n",
              "3                 11          0.591380                   1           2909   \n",
              "4                 12          0.705021                   9           3468   \n",
              "\n",
              "   TenurePerJob  TotalWorkingYears  HourlyRate  YearsSinceLastPromotion  \\\n",
              "0      1.000000                  8          94                        0   \n",
              "1     10.000000                 10          61                        1   \n",
              "2      1.166667                  7          92                        0   \n",
              "3      8.000000                  8          56                        3   \n",
              "4      0.666667                  6          40                        2   \n",
              "\n",
              "   DailyRate  Age  OverTime_No  OverTime_Yes  PerformanceRating_3  \\\n",
              "0       1102   41            0             1                    1   \n",
              "1        279   49            1             0                    0   \n",
              "2       1373   37            0             1                    1   \n",
              "3       1392   33            0             1                    1   \n",
              "4        591   27            1             0                    1   \n",
              "\n",
              "   PerformanceRating_4  MaritalStatus_Divorced  MaritalStatus_Married  \\\n",
              "0                    0                       0                      0   \n",
              "1                    1                       0                      1   \n",
              "2                    0                       0                      0   \n",
              "3                    0                       0                      1   \n",
              "4                    0                       0                      1   \n",
              "\n",
              "   MaritalStatus_Single  Education_1  Education_2  Education_3  Education_4  \\\n",
              "0                     1            0            1            0            0   \n",
              "1                     0            1            0            0            0   \n",
              "2                     1            0            1            0            0   \n",
              "3                     0            0            0            0            1   \n",
              "4                     0            1            0            0            0   \n",
              "\n",
              "   Education_5  JobRole_Healthcare Representative  JobRole_Human Resources  \\\n",
              "0            0                                  0                        0   \n",
              "1            0                                  0                        0   \n",
              "2            0                                  0                        0   \n",
              "3            0                                  0                        0   \n",
              "4            0                                  0                        0   \n",
              "\n",
              "   JobRole_Laboratory Technician  JobRole_Manager  \\\n",
              "0                              0                0   \n",
              "1                              0                0   \n",
              "2                              1                0   \n",
              "3                              0                0   \n",
              "4                              1                0   \n",
              "\n",
              "   JobRole_Manufacturing Director  JobRole_Research Director  \\\n",
              "0                               0                          0   \n",
              "1                               0                          0   \n",
              "2                               0                          0   \n",
              "3                               0                          0   \n",
              "4                               0                          0   \n",
              "\n",
              "   JobRole_Research Scientist  JobRole_Sales Executive  \\\n",
              "0                           0                        1   \n",
              "1                           1                        0   \n",
              "2                           0                        0   \n",
              "3                           1                        0   \n",
              "4                           0                        0   \n",
              "\n",
              "   JobRole_Sales Representative  Gender_Female  Gender_Male  \\\n",
              "0                             0              1            0   \n",
              "1                             0              0            1   \n",
              "2                             0              0            1   \n",
              "3                             0              1            0   \n",
              "4                             0              0            1   \n",
              "\n",
              "   EnvironmentSatisfaction_1  EnvironmentSatisfaction_2  \\\n",
              "0                          0                          1   \n",
              "1                          0                          0   \n",
              "2                          0                          0   \n",
              "3                          0                          0   \n",
              "4                          1                          0   \n",
              "\n",
              "   EnvironmentSatisfaction_3  EnvironmentSatisfaction_4  \\\n",
              "0                          0                          0   \n",
              "1                          1                          0   \n",
              "2                          0                          1   \n",
              "3                          0                          1   \n",
              "4                          0                          0   \n",
              "\n",
              "   EducationField_Human Resources  EducationField_Life Sciences  \\\n",
              "0                               0                             1   \n",
              "1                               0                             1   \n",
              "2                               0                             0   \n",
              "3                               0                             1   \n",
              "4                               0                             0   \n",
              "\n",
              "   EducationField_Marketing  EducationField_Medical  EducationField_Other  \\\n",
              "0                         0                       0                     0   \n",
              "1                         0                       0                     0   \n",
              "2                         0                       0                     1   \n",
              "3                         0                       0                     0   \n",
              "4                         0                       1                     0   \n",
              "\n",
              "   EducationField_Technical Degree  WorkLifeBalance_1  WorkLifeBalance_2  \\\n",
              "0                                0                  1                  0   \n",
              "1                                0                  0                  0   \n",
              "2                                0                  0                  0   \n",
              "3                                0                  0                  0   \n",
              "4                                0                  0                  0   \n",
              "\n",
              "   WorkLifeBalance_3  WorkLifeBalance_4  StockOptionLevel_0  \\\n",
              "0                  0                  0                   1   \n",
              "1                  1                  0                   0   \n",
              "2                  1                  0                   1   \n",
              "3                  1                  0                   1   \n",
              "4                  1                  0                   0   \n",
              "\n",
              "   StockOptionLevel_1  StockOptionLevel_2  StockOptionLevel_3  \\\n",
              "0                   0                   0                   0   \n",
              "1                   1                   0                   0   \n",
              "2                   0                   0                   0   \n",
              "3                   0                   0                   0   \n",
              "4                   1                   0                   0   \n",
              "\n",
              "   JobInvolvement_1  JobInvolvement_2  JobInvolvement_3  JobInvolvement_4  \\\n",
              "0                 0                 0                 1                 0   \n",
              "1                 0                 1                 0                 0   \n",
              "2                 0                 1                 0                 0   \n",
              "3                 0                 0                 1                 0   \n",
              "4                 0                 0                 1                 0   \n",
              "\n",
              "   Department_Human Resources  Department_Research & Development  \\\n",
              "0                           0                                  0   \n",
              "1                           0                                  1   \n",
              "2                           0                                  1   \n",
              "3                           0                                  1   \n",
              "4                           0                                  1   \n",
              "\n",
              "   Department_Sales  JobLevel_1  JobLevel_2  JobLevel_3  JobLevel_4  \\\n",
              "0                 1           0           1           0           0   \n",
              "1                 0           0           1           0           0   \n",
              "2                 0           1           0           0           0   \n",
              "3                 0           1           0           0           0   \n",
              "4                 0           1           0           0           0   \n",
              "\n",
              "   JobLevel_5  JobSatisfaction_1  JobSatisfaction_2  JobSatisfaction_3  \\\n",
              "0           0                  0                  0                  0   \n",
              "1           0                  0                  1                  0   \n",
              "2           0                  0                  0                  1   \n",
              "3           0                  0                  0                  1   \n",
              "4           0                  0                  1                  0   \n",
              "\n",
              "   JobSatisfaction_4  RelationshipSatisfaction_1  RelationshipSatisfaction_2  \\\n",
              "0                  1                           1                           0   \n",
              "1                  0                           0                           0   \n",
              "2                  0                           0                           1   \n",
              "3                  0                           0                           0   \n",
              "4                  0                           0                           0   \n",
              "\n",
              "   RelationshipSatisfaction_3  RelationshipSatisfaction_4  \\\n",
              "0                           0                           0   \n",
              "1                           0                           1   \n",
              "2                           0                           0   \n",
              "3                           1                           0   \n",
              "4                           0                           1   \n",
              "\n",
              "   BusinessTravel_Non-Travel  BusinessTravel_Travel_Frequently  \\\n",
              "0                          0                                 0   \n",
              "1                          0                                 1   \n",
              "2                          0                                 0   \n",
              "3                          0                                 1   \n",
              "4                          0                                 0   \n",
              "\n",
              "   BusinessTravel_Travel_Rarely  \n",
              "0                             1  \n",
              "1                             0  \n",
              "2                             1  \n",
              "3                             0  \n",
              "4                             1  "
            ]
          },
          "metadata": {},
          "execution_count": 37
        }
      ]
    },
    {
      "cell_type": "markdown",
      "metadata": {
        "id": "lculCbMHEDtT"
      },
      "source": [
        "**Model Building and Validation**"
      ]
    },
    {
      "cell_type": "markdown",
      "metadata": {
        "id": "LlPrPdVLEVH0"
      },
      "source": [
        "Here we are trying to predict a binary class, whether an employee will leave the job or not. Thus, we need to use several classification models which needs a focus on following parameters to achieve an acceptable model.\n",
        "\n",
        "* Accuracy\n",
        "* True Positive Rate\n",
        "* Precision\n",
        "* Specificity"
      ]
    },
    {
      "cell_type": "markdown",
      "metadata": {
        "id": "1KX5fxbQE40s"
      },
      "source": [
        "**Preparing the training and testing dataset**\n",
        "We will split the dataset into 70-30 ratio into training and testing respectively"
      ]
    },
    {
      "cell_type": "code",
      "metadata": {
        "colab": {
          "base_uri": "https://localhost:8080/"
        },
        "id": "g7mEW_yGEBwa",
        "outputId": "052a4c84-df15-46d4-fcea-cdac9ac6818d"
      },
      "source": [
        "from sklearn.model_selection import train_test_split\n",
        "from sklearn.model_selection import StratifiedShuffleSplit\n",
        "\n",
        "# Split data into train and test sets as well as for validation and testing\n",
        "X_train, X_val, y_train, y_val = train_test_split(final_emp_df, attrition_target,\n",
        "                                                  test_size= 0.30, random_state=42);\n",
        "\n",
        "print(\"Stratified Sampling: \", len(X_train), \"train set +\", len(X_val), \"validation set\")"
      ],
      "execution_count": 38,
      "outputs": [
        {
          "output_type": "stream",
          "name": "stdout",
          "text": [
            "Stratified Sampling:  1029 train set + 441 validation set\n"
          ]
        }
      ]
    },
    {
      "cell_type": "markdown",
      "metadata": {
        "id": "G_s0-fUtFMhj"
      },
      "source": [
        "We will be using following ML binary classification models and comparing them to find the best model for our predictions:\n",
        "* Logistic Regression\n",
        "* Random Forest Classifier\n",
        "* AdaBoost Classifier\n",
        "* Gradient Boosting Classifier\n",
        "* Extra Trees Classifier\n",
        "* Decision Tree Classifier\n"
      ]
    },
    {
      "cell_type": "code",
      "metadata": {
        "id": "r2E9ksRBFG9F"
      },
      "source": [
        "from sklearn.linear_model import LogisticRegression, LogisticRegressionCV\n",
        "from sklearn.ensemble import RandomForestClassifier, AdaBoostClassifier, GradientBoostingClassifier, ExtraTreesClassifier\n",
        "from sklearn.tree import DecisionTreeClassifier\n",
        "from sklearn.naive_bayes import GaussianNB\n",
        "\n",
        "from sklearn.model_selection import cross_val_score\n",
        "from sklearn.feature_selection import SelectFromModel\n",
        "\n",
        "from sklearn.metrics import accuracy_score, classification_report, confusion_matrix, roc_auc_score, f1_score"
      ],
      "execution_count": 39,
      "outputs": []
    },
    {
      "cell_type": "code",
      "metadata": {
        "id": "1IRueDclFp1J"
      },
      "source": [
        "#Creating a function to find the performance of a given model\n",
        "def gen_model_performance(actual_target, pred_target):\n",
        "    model_conf_matrix = confusion_matrix(actual_target, pred_target)\n",
        "    model_roc_score = roc_auc_score(actual_target, pred_target)\n",
        "    model_accuracy = accuracy_score(actual_target, pred_target) * 100.0\n",
        "    \n",
        "    TP = model_conf_matrix[1][1]; TN = model_conf_matrix[0][0]; \n",
        "    FP = model_conf_matrix[0][1]; FN = model_conf_matrix[1][0];\n",
        "    sensitivity = TP / float(TP + FN) * 100.0; specificity = TN / float(TN + FP) * 100.0;\n",
        "    precision = TP / float(TP + FP) * 100.0;\n",
        "    \n",
        "    return sensitivity, specificity, model_accuracy, precision, model_roc_score"
      ],
      "execution_count": 41,
      "outputs": []
    },
    {
      "cell_type": "code",
      "metadata": {
        "id": "D5JlSL58Fx7n"
      },
      "source": [
        "def evaluate_model_score(X, y, scoring='accuracy'):\n",
        "    \n",
        "    logreg_model = LogisticRegression(random_state=0)\n",
        "    logreg_cv_model = LogisticRegressionCV()\n",
        "    rfc_model = RandomForestClassifier()\n",
        "    extrees_model = ExtraTreesClassifier()\n",
        "    gboost_model = GradientBoostingClassifier()\n",
        "    dt_model = DecisionTreeClassifier()\n",
        "    aboost_model = AdaBoostClassifier()\n",
        "    gnb_model = GaussianNB()\n",
        "\n",
        "    models = [logreg_model, logreg_cv_model, dt_model, rfc_model, \n",
        "              extrees_model, gboost_model, aboost_model, gnb_model]\n",
        "    \n",
        "    model_results = pd.DataFrame(columns = [\"Model\", \"Accuracy\", \"Precision\", \"CV Score\",\n",
        "                                            \"Sensitivity\",\"Specificity\",\"ROC Score\"])\n",
        "    \n",
        "    for model in models:\n",
        "        model.fit(X, y,)\n",
        "        y_pred = model.predict(X)\n",
        "        score = cross_val_score(model, X, y, cv=5, scoring=scoring)\n",
        "        \n",
        "        sensitivity, specificity, accuracy, precision, roc_score = gen_model_performance(y, y_pred)\n",
        "    \n",
        "        scores = cross_val_score(model, X, y, cv=5)\n",
        "    \n",
        "        model_results = model_results.append({\"Model\": model.__class__.__name__,\n",
        "                              \"Accuracy\": accuracy, \"Precision\": precision,\n",
        "                              \"CV Score\": scores.mean()*100.0,\n",
        "                              \"Sensitivity\": sensitivity, \"Specificity\": specificity,\n",
        "                              \"ROC Score\": roc_score}, ignore_index=True)\n",
        "    return model_results"
      ],
      "execution_count": 42,
      "outputs": []
    },
    {
      "cell_type": "markdown",
      "metadata": {
        "id": "IrK_dE6uGD4w"
      },
      "source": [
        "**Training Models and Evaluating using cross-validation**"
      ]
    },
    {
      "cell_type": "code",
      "metadata": {
        "colab": {
          "base_uri": "https://localhost:8080/",
          "height": 297
        },
        "id": "Rg2BRJUEGBJx",
        "outputId": "d2eb52c6-25c2-47b8-8461-f507bb5048d9"
      },
      "source": [
        "model_results = evaluate_model_score(X_train, y_train)\n",
        "\n",
        "model_results"
      ],
      "execution_count": 43,
      "outputs": [
        {
          "output_type": "execute_result",
          "data": {
            "text/html": [
              "<div>\n",
              "<style scoped>\n",
              "    .dataframe tbody tr th:only-of-type {\n",
              "        vertical-align: middle;\n",
              "    }\n",
              "\n",
              "    .dataframe tbody tr th {\n",
              "        vertical-align: top;\n",
              "    }\n",
              "\n",
              "    .dataframe thead th {\n",
              "        text-align: right;\n",
              "    }\n",
              "</style>\n",
              "<table border=\"1\" class=\"dataframe\">\n",
              "  <thead>\n",
              "    <tr style=\"text-align: right;\">\n",
              "      <th></th>\n",
              "      <th>Model</th>\n",
              "      <th>Accuracy</th>\n",
              "      <th>Precision</th>\n",
              "      <th>CV Score</th>\n",
              "      <th>Sensitivity</th>\n",
              "      <th>Specificity</th>\n",
              "      <th>ROC Score</th>\n",
              "    </tr>\n",
              "  </thead>\n",
              "  <tbody>\n",
              "    <tr>\n",
              "      <th>0</th>\n",
              "      <td>LogisticRegression</td>\n",
              "      <td>83.576288</td>\n",
              "      <td>70.588235</td>\n",
              "      <td>83.284869</td>\n",
              "      <td>6.818182</td>\n",
              "      <td>99.413834</td>\n",
              "      <td>0.531160</td>\n",
              "    </tr>\n",
              "    <tr>\n",
              "      <th>1</th>\n",
              "      <td>LogisticRegressionCV</td>\n",
              "      <td>88.435374</td>\n",
              "      <td>87.012987</td>\n",
              "      <td>87.076960</td>\n",
              "      <td>38.068182</td>\n",
              "      <td>98.827667</td>\n",
              "      <td>0.684479</td>\n",
              "    </tr>\n",
              "    <tr>\n",
              "      <th>2</th>\n",
              "      <td>DecisionTreeClassifier</td>\n",
              "      <td>100.000000</td>\n",
              "      <td>100.000000</td>\n",
              "      <td>78.329623</td>\n",
              "      <td>100.000000</td>\n",
              "      <td>100.000000</td>\n",
              "      <td>1.000000</td>\n",
              "    </tr>\n",
              "    <tr>\n",
              "      <th>3</th>\n",
              "      <td>RandomForestClassifier</td>\n",
              "      <td>100.000000</td>\n",
              "      <td>100.000000</td>\n",
              "      <td>85.227563</td>\n",
              "      <td>100.000000</td>\n",
              "      <td>100.000000</td>\n",
              "      <td>1.000000</td>\n",
              "    </tr>\n",
              "    <tr>\n",
              "      <th>4</th>\n",
              "      <td>ExtraTreesClassifier</td>\n",
              "      <td>100.000000</td>\n",
              "      <td>100.000000</td>\n",
              "      <td>85.617807</td>\n",
              "      <td>100.000000</td>\n",
              "      <td>100.000000</td>\n",
              "      <td>1.000000</td>\n",
              "    </tr>\n",
              "    <tr>\n",
              "      <th>5</th>\n",
              "      <td>GradientBoostingClassifier</td>\n",
              "      <td>96.209913</td>\n",
              "      <td>100.000000</td>\n",
              "      <td>85.323704</td>\n",
              "      <td>77.840909</td>\n",
              "      <td>100.000000</td>\n",
              "      <td>0.889205</td>\n",
              "    </tr>\n",
              "    <tr>\n",
              "      <th>6</th>\n",
              "      <td>AdaBoostClassifier</td>\n",
              "      <td>90.573372</td>\n",
              "      <td>84.955752</td>\n",
              "      <td>87.075065</td>\n",
              "      <td>54.545455</td>\n",
              "      <td>98.007034</td>\n",
              "      <td>0.762762</td>\n",
              "    </tr>\n",
              "    <tr>\n",
              "      <th>7</th>\n",
              "      <td>GaussianNB</td>\n",
              "      <td>70.359572</td>\n",
              "      <td>34.074074</td>\n",
              "      <td>69.487568</td>\n",
              "      <td>78.409091</td>\n",
              "      <td>68.698710</td>\n",
              "      <td>0.735539</td>\n",
              "    </tr>\n",
              "  </tbody>\n",
              "</table>\n",
              "</div>"
            ],
            "text/plain": [
              "                        Model    Accuracy   Precision   CV Score  Sensitivity  \\\n",
              "0          LogisticRegression   83.576288   70.588235  83.284869     6.818182   \n",
              "1        LogisticRegressionCV   88.435374   87.012987  87.076960    38.068182   \n",
              "2      DecisionTreeClassifier  100.000000  100.000000  78.329623   100.000000   \n",
              "3      RandomForestClassifier  100.000000  100.000000  85.227563   100.000000   \n",
              "4        ExtraTreesClassifier  100.000000  100.000000  85.617807   100.000000   \n",
              "5  GradientBoostingClassifier   96.209913  100.000000  85.323704    77.840909   \n",
              "6          AdaBoostClassifier   90.573372   84.955752  87.075065    54.545455   \n",
              "7                  GaussianNB   70.359572   34.074074  69.487568    78.409091   \n",
              "\n",
              "   Specificity  ROC Score  \n",
              "0    99.413834   0.531160  \n",
              "1    98.827667   0.684479  \n",
              "2   100.000000   1.000000  \n",
              "3   100.000000   1.000000  \n",
              "4   100.000000   1.000000  \n",
              "5   100.000000   0.889205  \n",
              "6    98.007034   0.762762  \n",
              "7    68.698710   0.735539  "
            ]
          },
          "metadata": {},
          "execution_count": 43
        }
      ]
    },
    {
      "cell_type": "markdown",
      "metadata": {
        "id": "MkQgDDX3HBry"
      },
      "source": [
        "We can observe 3 models which performs very well i.e. RandomForestClassifier, GradientBoostingClassifier & AdaBoostClassifier.\n",
        "\n",
        "Out of 3 models, we can see cross validation score of AdaBoostClassifier is best and Sensitivity i.e. Recall rate of RandomForestClassifier is the best.\n",
        "\n",
        "Our goal is to identify whether employee will leave or not i.e. Attrition=1 which means our Sensitivity metric is the main evaluation metric along with Precision and Accuracy.\n",
        "\n",
        "Even though DecisionTreeClassifier & ExtraTreesClassifier has 100% Accuracy which means model is overfitting, hence not selected."
      ]
    },
    {
      "cell_type": "code",
      "metadata": {
        "colab": {
          "base_uri": "https://localhost:8080/"
        },
        "id": "hhqCdpvxGpf6",
        "outputId": "609834ce-b5c8-4e32-d276-3be740706390"
      },
      "source": [
        "rfc_model = RandomForestClassifier();\n",
        "\n",
        "refclasscol = X_train.columns\n",
        "\n",
        "# fit random forest classifier on the training set\n",
        "rfc_model.fit(X_train, y_train);\n",
        "\n",
        "# extract important features\n",
        "score = np.round(rfc_model.feature_importances_, 3)\n",
        "importances = pd.DataFrame({'feature':refclasscol, 'importance':score})\n",
        "importances = importances.sort_values('importance', ascending=False).set_index('feature')\n",
        "\n",
        "# random forest classifier parameters used for feature importances\n",
        "print(rfc_model)"
      ],
      "execution_count": 45,
      "outputs": [
        {
          "output_type": "stream",
          "name": "stdout",
          "text": [
            "RandomForestClassifier(bootstrap=True, ccp_alpha=0.0, class_weight=None,\n",
            "                       criterion='gini', max_depth=None, max_features='auto',\n",
            "                       max_leaf_nodes=None, max_samples=None,\n",
            "                       min_impurity_decrease=0.0, min_impurity_split=None,\n",
            "                       min_samples_leaf=1, min_samples_split=2,\n",
            "                       min_weight_fraction_leaf=0.0, n_estimators=100,\n",
            "                       n_jobs=None, oob_score=False, random_state=None,\n",
            "                       verbose=0, warm_start=False)\n"
          ]
        }
      ]
    },
    {
      "cell_type": "code",
      "metadata": {
        "colab": {
          "base_uri": "https://localhost:8080/",
          "height": 426
        },
        "id": "IPtgUmwXHbtf",
        "outputId": "92d21c1d-36d9-4446-c345-021a736b7c6a"
      },
      "source": [
        "high_imp_df = importances[importances.importance>=0.015]\n",
        "high_imp_df.plot.bar();\n",
        "del high_imp_df"
      ],
      "execution_count": 46,
      "outputs": [
        {
          "output_type": "display_data",
          "data": {
            "image/png": "[encoded data removed]",
            "text/plain": [
              "<Figure size 1152x288 with 1 Axes>"
            ]
          },
          "metadata": {
            "needs_background": "light"
          }
        }
      ]
    },
    {
      "cell_type": "code",
      "metadata": {
        "colab": {
          "base_uri": "https://localhost:8080/",
          "height": 506
        },
        "id": "JX4v0WoBHscC",
        "outputId": "6039055a-0327-4f6c-8245-82fad37b8835"
      },
      "source": [
        "mid_imp_df = importances[importances.importance<=0.015]\n",
        "mid_imp_df = mid_imp_df[mid_imp_df.importance>=0.0050]\n",
        "mid_imp_df.plot.bar();\n",
        "del mid_imp_df"
      ],
      "execution_count": 47,
      "outputs": [
        {
          "output_type": "display_data",
          "data": {
            "image/png": "[encoded data removed]",
            "text/plain": [
              "<Figure size 1152x288 with 1 Axes>"
            ]
          },
          "metadata": {
            "needs_background": "light"
          }
        }
      ]
    },
    {
      "cell_type": "code",
      "metadata": {
        "colab": {
          "base_uri": "https://localhost:8080/",
          "height": 297
        },
        "id": "Ya2NWgNvI4ye",
        "outputId": "a6f37594-86da-4104-8652-230bb3beb6e5"
      },
      "source": [
        "model_results = evaluate_model_score(X_train_select, y_train)\n",
        "\n",
        "model_results"
      ],
      "execution_count": 50,
      "outputs": [
        {
          "output_type": "execute_result",
          "data": {
            "text/html": [
              "<div>\n",
              "<style scoped>\n",
              "    .dataframe tbody tr th:only-of-type {\n",
              "        vertical-align: middle;\n",
              "    }\n",
              "\n",
              "    .dataframe tbody tr th {\n",
              "        vertical-align: top;\n",
              "    }\n",
              "\n",
              "    .dataframe thead th {\n",
              "        text-align: right;\n",
              "    }\n",
              "</style>\n",
              "<table border=\"1\" class=\"dataframe\">\n",
              "  <thead>\n",
              "    <tr style=\"text-align: right;\">\n",
              "      <th></th>\n",
              "      <th>Model</th>\n",
              "      <th>Accuracy</th>\n",
              "      <th>Precision</th>\n",
              "      <th>CV Score</th>\n",
              "      <th>Sensitivity</th>\n",
              "      <th>Specificity</th>\n",
              "      <th>ROC Score</th>\n",
              "    </tr>\n",
              "  </thead>\n",
              "  <tbody>\n",
              "    <tr>\n",
              "      <th>0</th>\n",
              "      <td>LogisticRegression</td>\n",
              "      <td>83.576288</td>\n",
              "      <td>88.888889</td>\n",
              "      <td>83.479517</td>\n",
              "      <td>4.545455</td>\n",
              "      <td>99.882767</td>\n",
              "      <td>0.522141</td>\n",
              "    </tr>\n",
              "    <tr>\n",
              "      <th>1</th>\n",
              "      <td>LogisticRegressionCV</td>\n",
              "      <td>88.241011</td>\n",
              "      <td>86.666667</td>\n",
              "      <td>86.685768</td>\n",
              "      <td>36.931818</td>\n",
              "      <td>98.827667</td>\n",
              "      <td>0.678797</td>\n",
              "    </tr>\n",
              "    <tr>\n",
              "      <th>2</th>\n",
              "      <td>DecisionTreeClassifier</td>\n",
              "      <td>100.000000</td>\n",
              "      <td>100.000000</td>\n",
              "      <td>78.427658</td>\n",
              "      <td>100.000000</td>\n",
              "      <td>100.000000</td>\n",
              "      <td>1.000000</td>\n",
              "    </tr>\n",
              "    <tr>\n",
              "      <th>3</th>\n",
              "      <td>RandomForestClassifier</td>\n",
              "      <td>100.000000</td>\n",
              "      <td>100.000000</td>\n",
              "      <td>85.422212</td>\n",
              "      <td>100.000000</td>\n",
              "      <td>100.000000</td>\n",
              "      <td>1.000000</td>\n",
              "    </tr>\n",
              "    <tr>\n",
              "      <th>4</th>\n",
              "      <td>ExtraTreesClassifier</td>\n",
              "      <td>100.000000</td>\n",
              "      <td>100.000000</td>\n",
              "      <td>85.812456</td>\n",
              "      <td>100.000000</td>\n",
              "      <td>100.000000</td>\n",
              "      <td>1.000000</td>\n",
              "    </tr>\n",
              "    <tr>\n",
              "      <th>5</th>\n",
              "      <td>GradientBoostingClassifier</td>\n",
              "      <td>96.209913</td>\n",
              "      <td>100.000000</td>\n",
              "      <td>85.227563</td>\n",
              "      <td>77.840909</td>\n",
              "      <td>100.000000</td>\n",
              "      <td>0.889205</td>\n",
              "    </tr>\n",
              "    <tr>\n",
              "      <th>6</th>\n",
              "      <td>AdaBoostClassifier</td>\n",
              "      <td>90.379009</td>\n",
              "      <td>83.478261</td>\n",
              "      <td>86.782856</td>\n",
              "      <td>54.545455</td>\n",
              "      <td>97.772567</td>\n",
              "      <td>0.761590</td>\n",
              "    </tr>\n",
              "    <tr>\n",
              "      <th>7</th>\n",
              "      <td>GaussianNB</td>\n",
              "      <td>76.287658</td>\n",
              "      <td>39.634146</td>\n",
              "      <td>75.900545</td>\n",
              "      <td>73.863636</td>\n",
              "      <td>76.787808</td>\n",
              "      <td>0.753257</td>\n",
              "    </tr>\n",
              "  </tbody>\n",
              "</table>\n",
              "</div>"
            ],
            "text/plain": [
              "                        Model    Accuracy   Precision   CV Score  Sensitivity  \\\n",
              "0          LogisticRegression   83.576288   88.888889  83.479517     4.545455   \n",
              "1        LogisticRegressionCV   88.241011   86.666667  86.685768    36.931818   \n",
              "2      DecisionTreeClassifier  100.000000  100.000000  78.427658   100.000000   \n",
              "3      RandomForestClassifier  100.000000  100.000000  85.422212   100.000000   \n",
              "4        ExtraTreesClassifier  100.000000  100.000000  85.812456   100.000000   \n",
              "5  GradientBoostingClassifier   96.209913  100.000000  85.227563    77.840909   \n",
              "6          AdaBoostClassifier   90.379009   83.478261  86.782856    54.545455   \n",
              "7                  GaussianNB   76.287658   39.634146  75.900545    73.863636   \n",
              "\n",
              "   Specificity  ROC Score  \n",
              "0    99.882767   0.522141  \n",
              "1    98.827667   0.678797  \n",
              "2   100.000000   1.000000  \n",
              "3   100.000000   1.000000  \n",
              "4   100.000000   1.000000  \n",
              "5   100.000000   0.889205  \n",
              "6    97.772567   0.761590  \n",
              "7    76.787808   0.753257  "
            ]
          },
          "metadata": {},
          "execution_count": 50
        }
      ]
    },
    {
      "cell_type": "code",
      "metadata": {
        "colab": {
          "base_uri": "https://localhost:8080/"
        },
        "id": "A_NQOs7DJACf",
        "outputId": "741effe2-8da7-4aee-be2c-ca983440cb5f"
      },
      "source": [
        "final_rfc_model = RandomForestClassifier()\n",
        "final_rf_scores = cross_val_score(final_rfc_model, X_train_select, y_train, cv=5)\n",
        "\n",
        "final_rfc_model.fit(X_train_select, y_train)\n",
        "y_trn_pred = final_rfc_model.predict(X_train_select)\n",
        "sensitivity, specificity, accuracy, precision, roc_score = gen_model_performance(y_train, y_trn_pred)\n",
        "\n",
        "print(\"Train Accuracy: %.2f%%, Precision: %.2f%%, CV Mean Score=%.2f%%, Sensitivity=%.2f%%, Specificity=%.2f%%\" % \n",
        "      (accuracy, precision, final_rf_scores.mean()*100.0, sensitivity, specificity))\n",
        "print('\\n')\n",
        "\n",
        "y_val_pred = final_rfc_model.predict(X_val_select)\n",
        "sensitivity, specificity, accuracy, precision, roc_score = gen_model_performance(y_val, y_val_pred)\n",
        "\n",
        "print(\"Validation Accuracy: %.2f%%, Precision: %.2f%%, Sensitivity=%.2f%%, Specificity=%.2f%%\" % \n",
        "      (accuracy, precision, sensitivity, specificity))\n",
        "print('\\n')"
      ],
      "execution_count": 52,
      "outputs": [
        {
          "output_type": "stream",
          "name": "stdout",
          "text": [
            "Train Accuracy: 100.00%, Precision: 100.00%, CV Mean Score=85.13%, Sensitivity=100.00%, Specificity=100.00%\n",
            "\n",
            "\n",
            "Validation Accuracy: 86.62%, Precision: 60.00%, Sensitivity=9.84%, Specificity=98.95%\n",
            "\n",
            "\n"
          ]
        }
      ]
    },
    {
      "cell_type": "markdown",
      "metadata": {
        "id": "1-0uQbPDJrp5"
      },
      "source": [
        "We can see that their is a significant difference between the results we got for training accuracy and validation accuracy.\n",
        "\n",
        "This is because of the skewed target variable data. We will handle this target class imbalance using SMOTE\n"
      ]
    },
    {
      "cell_type": "markdown",
      "metadata": {
        "id": "ewO4hKjCJe6g"
      },
      "source": [
        "**Handling Target Class Imbalance**"
      ]
    },
    {
      "cell_type": "code",
      "metadata": {
        "id": "GDyyG6IAJUqg"
      },
      "source": [
        "from imblearn.over_sampling import SMOTE\n",
        "\n",
        "oversampler=SMOTE(random_state=0)\n",
        "X_train_smote, y_train_smote = oversampler.fit_sample(X_train_select, y_train)"
      ],
      "execution_count": 53,
      "outputs": []
    },
    {
      "cell_type": "markdown",
      "metadata": {
        "id": "kr0vO81ZKEEo"
      },
      "source": [
        "Now, training and validating the model over SMOTE dataset"
      ]
    },
    {
      "cell_type": "code",
      "metadata": {
        "colab": {
          "base_uri": "https://localhost:8080/",
          "height": 297
        },
        "id": "d0pnpl8lKBLQ",
        "outputId": "701c9975-e72a-481e-c97e-164c121d9091"
      },
      "source": [
        "model_results = evaluate_model_score(X_train_smote, y_train_smote)\n",
        "\n",
        "model_results"
      ],
      "execution_count": 54,
      "outputs": [
        {
          "output_type": "execute_result",
          "data": {
            "text/html": [
              "<div>\n",
              "<style scoped>\n",
              "    .dataframe tbody tr th:only-of-type {\n",
              "        vertical-align: middle;\n",
              "    }\n",
              "\n",
              "    .dataframe tbody tr th {\n",
              "        vertical-align: top;\n",
              "    }\n",
              "\n",
              "    .dataframe thead th {\n",
              "        text-align: right;\n",
              "    }\n",
              "</style>\n",
              "<table border=\"1\" class=\"dataframe\">\n",
              "  <thead>\n",
              "    <tr style=\"text-align: right;\">\n",
              "      <th></th>\n",
              "      <th>Model</th>\n",
              "      <th>Accuracy</th>\n",
              "      <th>Precision</th>\n",
              "      <th>CV Score</th>\n",
              "      <th>Sensitivity</th>\n",
              "      <th>Specificity</th>\n",
              "      <th>ROC Score</th>\n",
              "    </tr>\n",
              "  </thead>\n",
              "  <tbody>\n",
              "    <tr>\n",
              "      <th>0</th>\n",
              "      <td>LogisticRegression</td>\n",
              "      <td>68.522860</td>\n",
              "      <td>66.772824</td>\n",
              "      <td>68.581914</td>\n",
              "      <td>73.739742</td>\n",
              "      <td>63.305979</td>\n",
              "      <td>0.685229</td>\n",
              "    </tr>\n",
              "    <tr>\n",
              "      <th>1</th>\n",
              "      <td>LogisticRegressionCV</td>\n",
              "      <td>80.832356</td>\n",
              "      <td>79.550562</td>\n",
              "      <td>79.953525</td>\n",
              "      <td>83.001172</td>\n",
              "      <td>78.663540</td>\n",
              "      <td>0.808324</td>\n",
              "    </tr>\n",
              "    <tr>\n",
              "      <th>2</th>\n",
              "      <td>DecisionTreeClassifier</td>\n",
              "      <td>100.000000</td>\n",
              "      <td>100.000000</td>\n",
              "      <td>86.119086</td>\n",
              "      <td>100.000000</td>\n",
              "      <td>100.000000</td>\n",
              "      <td>1.000000</td>\n",
              "    </tr>\n",
              "    <tr>\n",
              "      <th>3</th>\n",
              "      <td>RandomForestClassifier</td>\n",
              "      <td>100.000000</td>\n",
              "      <td>100.000000</td>\n",
              "      <td>90.461834</td>\n",
              "      <td>100.000000</td>\n",
              "      <td>100.000000</td>\n",
              "      <td>1.000000</td>\n",
              "    </tr>\n",
              "    <tr>\n",
              "      <th>4</th>\n",
              "      <td>ExtraTreesClassifier</td>\n",
              "      <td>100.000000</td>\n",
              "      <td>100.000000</td>\n",
              "      <td>93.912641</td>\n",
              "      <td>100.000000</td>\n",
              "      <td>100.000000</td>\n",
              "      <td>1.000000</td>\n",
              "    </tr>\n",
              "    <tr>\n",
              "      <th>5</th>\n",
              "      <td>GradientBoostingClassifier</td>\n",
              "      <td>97.303634</td>\n",
              "      <td>99.388005</td>\n",
              "      <td>87.769032</td>\n",
              "      <td>95.193435</td>\n",
              "      <td>99.413834</td>\n",
              "      <td>0.973036</td>\n",
              "    </tr>\n",
              "    <tr>\n",
              "      <th>6</th>\n",
              "      <td>AdaBoostClassifier</td>\n",
              "      <td>94.314185</td>\n",
              "      <td>95.323741</td>\n",
              "      <td>86.653462</td>\n",
              "      <td>93.200469</td>\n",
              "      <td>95.427902</td>\n",
              "      <td>0.943142</td>\n",
              "    </tr>\n",
              "    <tr>\n",
              "      <th>7</th>\n",
              "      <td>GaussianNB</td>\n",
              "      <td>74.325909</td>\n",
              "      <td>69.447048</td>\n",
              "      <td>73.563650</td>\n",
              "      <td>86.869871</td>\n",
              "      <td>61.781946</td>\n",
              "      <td>0.743259</td>\n",
              "    </tr>\n",
              "  </tbody>\n",
              "</table>\n",
              "</div>"
            ],
            "text/plain": [
              "                        Model    Accuracy   Precision   CV Score  Sensitivity  \\\n",
              "0          LogisticRegression   68.522860   66.772824  68.581914    73.739742   \n",
              "1        LogisticRegressionCV   80.832356   79.550562  79.953525    83.001172   \n",
              "2      DecisionTreeClassifier  100.000000  100.000000  86.119086   100.000000   \n",
              "3      RandomForestClassifier  100.000000  100.000000  90.461834   100.000000   \n",
              "4        ExtraTreesClassifier  100.000000  100.000000  93.912641   100.000000   \n",
              "5  GradientBoostingClassifier   97.303634   99.388005  87.769032    95.193435   \n",
              "6          AdaBoostClassifier   94.314185   95.323741  86.653462    93.200469   \n",
              "7                  GaussianNB   74.325909   69.447048  73.563650    86.869871   \n",
              "\n",
              "   Specificity  ROC Score  \n",
              "0    63.305979   0.685229  \n",
              "1    78.663540   0.808324  \n",
              "2   100.000000   1.000000  \n",
              "3   100.000000   1.000000  \n",
              "4   100.000000   1.000000  \n",
              "5    99.413834   0.973036  \n",
              "6    95.427902   0.943142  \n",
              "7    61.781946   0.743259  "
            ]
          },
          "metadata": {},
          "execution_count": 54
        }
      ]
    },
    {
      "cell_type": "markdown",
      "metadata": {
        "id": "9ivNdWjSKc_A"
      },
      "source": [
        "We can observe that after applying SMOTE technique the accuracy of all the models have increased including Sensitivity & Precision metrics"
      ]
    },
    {
      "cell_type": "code",
      "metadata": {
        "colab": {
          "base_uri": "https://localhost:8080/"
        },
        "id": "pP9wvwvQKLg9",
        "outputId": "bdbb5f70-fe6e-49b4-b94d-a3aa9981a663"
      },
      "source": [
        "final_rfc_model = RandomForestClassifier()\n",
        "final_rf_scores = cross_val_score(final_rfc_model, X_train_smote, y_train_smote, cv=5)\n",
        "\n",
        "final_rfc_model.fit(X_train_smote, y_train_smote)\n",
        "y_trn_pred = final_rfc_model.predict(X_train_smote)\n",
        "sensitivity, specificity, accuracy, precision, roc_score = gen_model_performance(y_train_smote, y_trn_pred)\n",
        "\n",
        "print(\"Train Accuracy: %.2f%%, Precision: %.2f%%, CV Mean Score=%.2f%%, Sensitivity=%.2f%%, Specificity=%.2f%%\" % \n",
        "      (accuracy, precision, final_rf_scores.mean()*100.0, sensitivity, specificity))\n",
        "print('\\n')\n",
        "\n",
        "y_val_pred = final_rfc_model.predict(X_val_select)\n",
        "sensitivity, specificity, accuracy, precision, roc_score = gen_model_performance(y_val, y_val_pred)\n",
        "\n",
        "print(\"Validation Accuracy: %.2f%%, Precision: %.2f%%, Sensitivity=%.2f%%, Specificity=%.2f%%\" % \n",
        "      (accuracy, precision, sensitivity, specificity))\n",
        "print('\\n')"
      ],
      "execution_count": 56,
      "outputs": [
        {
          "output_type": "stream",
          "name": "stdout",
          "text": [
            "Train Accuracy: 100.00%, Precision: 100.00%, CV Mean Score=90.70%, Sensitivity=100.00%, Specificity=100.00%\n",
            "\n",
            "\n",
            "Validation Accuracy: 87.30%, Precision: 64.71%, Sensitivity=18.03%, Specificity=98.42%\n",
            "\n",
            "\n"
          ]
        }
      ]
    },
    {
      "cell_type": "markdown",
      "metadata": {
        "id": "re9M2Y98Kz0y"
      },
      "source": [
        "\n",
        "**Identifying the best Hyper-Parameters of the Model**\n"
      ]
    },
    {
      "cell_type": "markdown",
      "metadata": {
        "id": "odZQcYtFLBPq"
      },
      "source": [
        "Once the model is build, we can tune the hyper-parameters of the model to get the best score and parameters. This will help us in getting better accuracy model. This can be achieved by **GridSearchCV** library by passing a range of values for different parameters."
      ]
    },
    {
      "cell_type": "code",
      "metadata": {
        "colab": {
          "base_uri": "https://localhost:8080/"
        },
        "id": "CMQInxECKrG3",
        "outputId": "8111cfeb-8799-4db3-9659-e8b112a5bf39"
      },
      "source": [
        "from sklearn.model_selection import StratifiedKFold\n",
        "from sklearn.model_selection import GridSearchCV\n",
        "\n",
        "# Hyperparameters Tuning for Random Forest\n",
        "rfc_param_grid = {\n",
        "                 'max_depth' : [None, 4, 6, 8],\n",
        "                 'n_estimators': [10, 30, 50],\n",
        "                 'max_features': ['sqrt', 'auto', 'log2'],\n",
        "                 'min_samples_split': [2, 3, 10],\n",
        "                 'min_samples_leaf': [1, 3, 10],\n",
        "                 }\n",
        "rfc_best_model = RandomForestClassifier()\n",
        "rfc_cross_val = StratifiedKFold(n_splits=5)\n",
        "\n",
        "rfc_grid_search = GridSearchCV(rfc_best_model,\n",
        "                               scoring='accuracy',\n",
        "                               param_grid=rfc_param_grid,\n",
        "                               cv=rfc_cross_val,\n",
        "                               verbose=1)\n",
        "\n",
        "rfc_grid_search.fit(X_train_smote, y_train_smote)\n",
        "rfc_model = rfc_grid_search\n",
        "rfc_parameters = rfc_grid_search.best_params_\n",
        "\n",
        "rfc_best_model = RandomForestClassifier(**rfc_parameters)\n",
        "\n",
        "scores = cross_val_score(rfc_best_model, X_train_smote, y_train_smote, cv=5, scoring='accuracy')\n",
        "    \n",
        "print('Cross-validation of : {0}'.format(rfc_best_model.__class__))\n",
        "print('After Hyperparameters tuning CV score = {0}'.format(np.mean(scores) * 100.0))\n",
        "print('Best score: {}'.format(rfc_grid_search.best_score_))\n",
        "print('Best parameters: {}'.format(rfc_grid_search.best_params_))\n",
        "\n",
        "rfc_best_model.fit(X_train_smote, y_train_smote)\n",
        "y_trn_pred = rfc_best_model.predict(X_train_smote)\n",
        "sensitivity, specificity, accuracy, precision, roc_score = gen_model_performance(y_train_smote, y_trn_pred)\n",
        "\n",
        "print(\"\\nTrain Accuracy: %.2f%%, Precision: %.2f%%, CV Mean Score=%.2f%%, Sensitivity=%.2f%%, Specificity=%.2f%%\" % \n",
        "      (accuracy, precision, scores.mean()*100.0, sensitivity, specificity))\n",
        "print('\\n')"
      ],
      "execution_count": 57,
      "outputs": [
        {
          "output_type": "stream",
          "name": "stdout",
          "text": [
            "Fitting 5 folds for each of 324 candidates, totalling 1620 fits\n"
          ]
        },
        {
          "output_type": "stream",
          "name": "stderr",
          "text": [
            "[Parallel(n_jobs=1)]: Using backend SequentialBackend with 1 concurrent workers.\n",
            "[Parallel(n_jobs=1)]: Done 1620 out of 1620 | elapsed:  2.4min finished\n"
          ]
        },
        {
          "output_type": "stream",
          "name": "stdout",
          "text": [
            "Cross-validation of : <class 'sklearn.ensemble._forest.RandomForestClassifier'>\n",
            "After Hyperparameters tuning CV score = 90.11009929515872\n",
            "Best score: 0.9057965049476084\n",
            "Best parameters: {'max_depth': None, 'max_features': 'auto', 'min_samples_leaf': 1, 'min_samples_split': 2, 'n_estimators': 30}\n",
            "\n",
            "Train Accuracy: 100.00%, Precision: 100.00%, CV Mean Score=90.11%, Sensitivity=100.00%, Specificity=100.00%\n",
            "\n",
            "\n"
          ]
        }
      ]
    },
    {
      "cell_type": "code",
      "metadata": {
        "colab": {
          "base_uri": "https://localhost:8080/"
        },
        "id": "k9v7uzhSLOqk",
        "outputId": "33209e13-5a4c-46e1-b97c-060f1a0a2bcc"
      },
      "source": [
        "y_val_pred = rfc_best_model.predict(X_val_select)\n",
        "sensitivity, specificity, accuracy, precision, roc_score = gen_model_performance(y_val, y_val_pred)\n",
        "\n",
        "print(\"Validation Accuracy: %.2f%%, Precision: %.2f%%, Sensitivity=%.2f%%, Specificity=%.2f%%\" % \n",
        "      (accuracy, precision, sensitivity, specificity))\n",
        "\n"
      ],
      "execution_count": 58,
      "outputs": [
        {
          "output_type": "stream",
          "name": "stdout",
          "text": [
            "Validation Accuracy: 86.85%, Precision: 58.82%, Sensitivity=16.39%, Specificity=98.16%\n"
          ]
        }
      ]
    }
  ]
}